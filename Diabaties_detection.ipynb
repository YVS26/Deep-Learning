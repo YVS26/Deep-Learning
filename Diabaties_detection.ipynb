{
  "nbformat": 4,
  "nbformat_minor": 0,
  "metadata": {
    "colab": {
      "name": "Diabaties_detection.ipynb",
      "provenance": [],
      "collapsed_sections": [],
      "include_colab_link": true
    },
    "kernelspec": {
      "name": "python2",
      "display_name": "Python 2"
    },
    "accelerator": "TPU"
  },
  "cells": [
    {
      "cell_type": "markdown",
      "metadata": {
        "id": "view-in-github",
        "colab_type": "text"
      },
      "source": [
        "<a href=\"https://colab.research.google.com/github/YVS26/Deep-Learning/blob/master/Diabaties_detection.ipynb\" target=\"_parent\"><img src=\"https://colab.research.google.com/assets/colab-badge.svg\" alt=\"Open In Colab\"/></a>"
      ]
    },
    {
      "cell_type": "markdown",
      "metadata": {
        "id": "SA7tCkrd9gr9",
        "colab_type": "text"
      },
      "source": [
        "# Deep Learning Grid search"
      ]
    },
    {
      "cell_type": "code",
      "metadata": {
        "id": "IQ53jmL8sVli",
        "colab_type": "code",
        "colab": {
          "base_uri": "https://localhost:8080/",
          "height": 119
        },
        "outputId": "6e4a4659-551c-42a9-f2a8-9191d880bfec"
      },
      "source": [
        "import sys\n",
        "import pandas\n",
        "import numpy\n",
        "import sklearn\n",
        "import keras\n",
        "print('python: {}',format(sys.version))\n",
        "print('pandas: {}',format(pandas.__version__))\n",
        "print('numpy: {}',format(numpy.__version__))\n",
        "print('sklearn: {}',format(sklearn.__version__))\n",
        "print('keras: {}',format(keras.__version__))"
      ],
      "execution_count": 1,
      "outputs": [
        {
          "output_type": "stream",
          "text": [
            "Using TensorFlow backend.\n"
          ],
          "name": "stderr"
        },
        {
          "output_type": "stream",
          "text": [
            "('python: {}', '2.7.17 (default, Nov  7 2019, 10:07:09) \\n[GCC 7.4.0]')\n",
            "('pandas: {}', u'0.24.2')\n",
            "('numpy: {}', '1.16.4')\n",
            "('sklearn: {}', '0.20.3')\n",
            "('keras: {}', '2.2.4')\n"
          ],
          "name": "stdout"
        }
      ]
    },
    {
      "cell_type": "code",
      "metadata": {
        "id": "jgMOuqfntgIg",
        "colab_type": "code",
        "colab": {}
      },
      "source": [
        "import pandas as pd\n",
        "import numpy as np\n",
        "names = ['n_pregnant','glucose_concentration','blood_pressure(mm Hg)','skin_thickness(mm)','serum_insulin',\n",
        "         'BMI','pedigree_function','age','class']\n",
        "df=pd.read_csv(\"/content/pima-indians-diabetes.data.csv\",names=names)"
      ],
      "execution_count": 0,
      "outputs": []
    },
    {
      "cell_type": "code",
      "metadata": {
        "id": "eU_4b5yr4sd5",
        "colab_type": "code",
        "colab": {
          "base_uri": "https://localhost:8080/",
          "height": 1000
        },
        "outputId": "dae65623-2d85-4ffd-b775-74c566f1ebb5"
      },
      "source": [
        "df"
      ],
      "execution_count": 7,
      "outputs": [
        {
          "output_type": "execute_result",
          "data": {
            "text/html": [
              "<div>\n",
              "<style scoped>\n",
              "    .dataframe tbody tr th:only-of-type {\n",
              "        vertical-align: middle;\n",
              "    }\n",
              "\n",
              "    .dataframe tbody tr th {\n",
              "        vertical-align: top;\n",
              "    }\n",
              "\n",
              "    .dataframe thead th {\n",
              "        text-align: right;\n",
              "    }\n",
              "</style>\n",
              "<table border=\"1\" class=\"dataframe\">\n",
              "  <thead>\n",
              "    <tr style=\"text-align: right;\">\n",
              "      <th></th>\n",
              "      <th>n_pregnant</th>\n",
              "      <th>glucose_concentration</th>\n",
              "      <th>blood_pressure(mm Hg)</th>\n",
              "      <th>skin_thickness(mm)</th>\n",
              "      <th>serum_insulin</th>\n",
              "      <th>BMI</th>\n",
              "      <th>pedigree_function</th>\n",
              "      <th>age</th>\n",
              "      <th>class</th>\n",
              "    </tr>\n",
              "  </thead>\n",
              "  <tbody>\n",
              "    <tr>\n",
              "      <th>0</th>\n",
              "      <td>6</td>\n",
              "      <td>148</td>\n",
              "      <td>72</td>\n",
              "      <td>35</td>\n",
              "      <td>0</td>\n",
              "      <td>33.6</td>\n",
              "      <td>0.627</td>\n",
              "      <td>50</td>\n",
              "      <td>1</td>\n",
              "    </tr>\n",
              "    <tr>\n",
              "      <th>1</th>\n",
              "      <td>1</td>\n",
              "      <td>85</td>\n",
              "      <td>66</td>\n",
              "      <td>29</td>\n",
              "      <td>0</td>\n",
              "      <td>26.6</td>\n",
              "      <td>0.351</td>\n",
              "      <td>31</td>\n",
              "      <td>0</td>\n",
              "    </tr>\n",
              "    <tr>\n",
              "      <th>2</th>\n",
              "      <td>8</td>\n",
              "      <td>183</td>\n",
              "      <td>64</td>\n",
              "      <td>0</td>\n",
              "      <td>0</td>\n",
              "      <td>23.3</td>\n",
              "      <td>0.672</td>\n",
              "      <td>32</td>\n",
              "      <td>1</td>\n",
              "    </tr>\n",
              "    <tr>\n",
              "      <th>3</th>\n",
              "      <td>1</td>\n",
              "      <td>89</td>\n",
              "      <td>66</td>\n",
              "      <td>23</td>\n",
              "      <td>94</td>\n",
              "      <td>28.1</td>\n",
              "      <td>0.167</td>\n",
              "      <td>21</td>\n",
              "      <td>0</td>\n",
              "    </tr>\n",
              "    <tr>\n",
              "      <th>4</th>\n",
              "      <td>0</td>\n",
              "      <td>137</td>\n",
              "      <td>40</td>\n",
              "      <td>35</td>\n",
              "      <td>168</td>\n",
              "      <td>43.1</td>\n",
              "      <td>2.288</td>\n",
              "      <td>33</td>\n",
              "      <td>1</td>\n",
              "    </tr>\n",
              "    <tr>\n",
              "      <th>5</th>\n",
              "      <td>5</td>\n",
              "      <td>116</td>\n",
              "      <td>74</td>\n",
              "      <td>0</td>\n",
              "      <td>0</td>\n",
              "      <td>25.6</td>\n",
              "      <td>0.201</td>\n",
              "      <td>30</td>\n",
              "      <td>0</td>\n",
              "    </tr>\n",
              "    <tr>\n",
              "      <th>6</th>\n",
              "      <td>3</td>\n",
              "      <td>78</td>\n",
              "      <td>50</td>\n",
              "      <td>32</td>\n",
              "      <td>88</td>\n",
              "      <td>31.0</td>\n",
              "      <td>0.248</td>\n",
              "      <td>26</td>\n",
              "      <td>1</td>\n",
              "    </tr>\n",
              "    <tr>\n",
              "      <th>7</th>\n",
              "      <td>10</td>\n",
              "      <td>115</td>\n",
              "      <td>0</td>\n",
              "      <td>0</td>\n",
              "      <td>0</td>\n",
              "      <td>35.3</td>\n",
              "      <td>0.134</td>\n",
              "      <td>29</td>\n",
              "      <td>0</td>\n",
              "    </tr>\n",
              "    <tr>\n",
              "      <th>8</th>\n",
              "      <td>2</td>\n",
              "      <td>197</td>\n",
              "      <td>70</td>\n",
              "      <td>45</td>\n",
              "      <td>543</td>\n",
              "      <td>30.5</td>\n",
              "      <td>0.158</td>\n",
              "      <td>53</td>\n",
              "      <td>1</td>\n",
              "    </tr>\n",
              "    <tr>\n",
              "      <th>9</th>\n",
              "      <td>8</td>\n",
              "      <td>125</td>\n",
              "      <td>96</td>\n",
              "      <td>0</td>\n",
              "      <td>0</td>\n",
              "      <td>0.0</td>\n",
              "      <td>0.232</td>\n",
              "      <td>54</td>\n",
              "      <td>1</td>\n",
              "    </tr>\n",
              "    <tr>\n",
              "      <th>10</th>\n",
              "      <td>4</td>\n",
              "      <td>110</td>\n",
              "      <td>92</td>\n",
              "      <td>0</td>\n",
              "      <td>0</td>\n",
              "      <td>37.6</td>\n",
              "      <td>0.191</td>\n",
              "      <td>30</td>\n",
              "      <td>0</td>\n",
              "    </tr>\n",
              "    <tr>\n",
              "      <th>11</th>\n",
              "      <td>10</td>\n",
              "      <td>168</td>\n",
              "      <td>74</td>\n",
              "      <td>0</td>\n",
              "      <td>0</td>\n",
              "      <td>38.0</td>\n",
              "      <td>0.537</td>\n",
              "      <td>34</td>\n",
              "      <td>1</td>\n",
              "    </tr>\n",
              "    <tr>\n",
              "      <th>12</th>\n",
              "      <td>10</td>\n",
              "      <td>139</td>\n",
              "      <td>80</td>\n",
              "      <td>0</td>\n",
              "      <td>0</td>\n",
              "      <td>27.1</td>\n",
              "      <td>1.441</td>\n",
              "      <td>57</td>\n",
              "      <td>0</td>\n",
              "    </tr>\n",
              "    <tr>\n",
              "      <th>13</th>\n",
              "      <td>1</td>\n",
              "      <td>189</td>\n",
              "      <td>60</td>\n",
              "      <td>23</td>\n",
              "      <td>846</td>\n",
              "      <td>30.1</td>\n",
              "      <td>0.398</td>\n",
              "      <td>59</td>\n",
              "      <td>1</td>\n",
              "    </tr>\n",
              "    <tr>\n",
              "      <th>14</th>\n",
              "      <td>5</td>\n",
              "      <td>166</td>\n",
              "      <td>72</td>\n",
              "      <td>19</td>\n",
              "      <td>175</td>\n",
              "      <td>25.8</td>\n",
              "      <td>0.587</td>\n",
              "      <td>51</td>\n",
              "      <td>1</td>\n",
              "    </tr>\n",
              "    <tr>\n",
              "      <th>15</th>\n",
              "      <td>7</td>\n",
              "      <td>100</td>\n",
              "      <td>0</td>\n",
              "      <td>0</td>\n",
              "      <td>0</td>\n",
              "      <td>30.0</td>\n",
              "      <td>0.484</td>\n",
              "      <td>32</td>\n",
              "      <td>1</td>\n",
              "    </tr>\n",
              "    <tr>\n",
              "      <th>16</th>\n",
              "      <td>0</td>\n",
              "      <td>118</td>\n",
              "      <td>84</td>\n",
              "      <td>47</td>\n",
              "      <td>230</td>\n",
              "      <td>45.8</td>\n",
              "      <td>0.551</td>\n",
              "      <td>31</td>\n",
              "      <td>1</td>\n",
              "    </tr>\n",
              "    <tr>\n",
              "      <th>17</th>\n",
              "      <td>7</td>\n",
              "      <td>107</td>\n",
              "      <td>74</td>\n",
              "      <td>0</td>\n",
              "      <td>0</td>\n",
              "      <td>29.6</td>\n",
              "      <td>0.254</td>\n",
              "      <td>31</td>\n",
              "      <td>1</td>\n",
              "    </tr>\n",
              "    <tr>\n",
              "      <th>18</th>\n",
              "      <td>1</td>\n",
              "      <td>103</td>\n",
              "      <td>30</td>\n",
              "      <td>38</td>\n",
              "      <td>83</td>\n",
              "      <td>43.3</td>\n",
              "      <td>0.183</td>\n",
              "      <td>33</td>\n",
              "      <td>0</td>\n",
              "    </tr>\n",
              "    <tr>\n",
              "      <th>19</th>\n",
              "      <td>1</td>\n",
              "      <td>115</td>\n",
              "      <td>70</td>\n",
              "      <td>30</td>\n",
              "      <td>96</td>\n",
              "      <td>34.6</td>\n",
              "      <td>0.529</td>\n",
              "      <td>32</td>\n",
              "      <td>1</td>\n",
              "    </tr>\n",
              "    <tr>\n",
              "      <th>20</th>\n",
              "      <td>3</td>\n",
              "      <td>126</td>\n",
              "      <td>88</td>\n",
              "      <td>41</td>\n",
              "      <td>235</td>\n",
              "      <td>39.3</td>\n",
              "      <td>0.704</td>\n",
              "      <td>27</td>\n",
              "      <td>0</td>\n",
              "    </tr>\n",
              "    <tr>\n",
              "      <th>21</th>\n",
              "      <td>8</td>\n",
              "      <td>99</td>\n",
              "      <td>84</td>\n",
              "      <td>0</td>\n",
              "      <td>0</td>\n",
              "      <td>35.4</td>\n",
              "      <td>0.388</td>\n",
              "      <td>50</td>\n",
              "      <td>0</td>\n",
              "    </tr>\n",
              "    <tr>\n",
              "      <th>22</th>\n",
              "      <td>7</td>\n",
              "      <td>196</td>\n",
              "      <td>90</td>\n",
              "      <td>0</td>\n",
              "      <td>0</td>\n",
              "      <td>39.8</td>\n",
              "      <td>0.451</td>\n",
              "      <td>41</td>\n",
              "      <td>1</td>\n",
              "    </tr>\n",
              "    <tr>\n",
              "      <th>23</th>\n",
              "      <td>9</td>\n",
              "      <td>119</td>\n",
              "      <td>80</td>\n",
              "      <td>35</td>\n",
              "      <td>0</td>\n",
              "      <td>29.0</td>\n",
              "      <td>0.263</td>\n",
              "      <td>29</td>\n",
              "      <td>1</td>\n",
              "    </tr>\n",
              "    <tr>\n",
              "      <th>24</th>\n",
              "      <td>11</td>\n",
              "      <td>143</td>\n",
              "      <td>94</td>\n",
              "      <td>33</td>\n",
              "      <td>146</td>\n",
              "      <td>36.6</td>\n",
              "      <td>0.254</td>\n",
              "      <td>51</td>\n",
              "      <td>1</td>\n",
              "    </tr>\n",
              "    <tr>\n",
              "      <th>25</th>\n",
              "      <td>10</td>\n",
              "      <td>125</td>\n",
              "      <td>70</td>\n",
              "      <td>26</td>\n",
              "      <td>115</td>\n",
              "      <td>31.1</td>\n",
              "      <td>0.205</td>\n",
              "      <td>41</td>\n",
              "      <td>1</td>\n",
              "    </tr>\n",
              "    <tr>\n",
              "      <th>26</th>\n",
              "      <td>7</td>\n",
              "      <td>147</td>\n",
              "      <td>76</td>\n",
              "      <td>0</td>\n",
              "      <td>0</td>\n",
              "      <td>39.4</td>\n",
              "      <td>0.257</td>\n",
              "      <td>43</td>\n",
              "      <td>1</td>\n",
              "    </tr>\n",
              "    <tr>\n",
              "      <th>27</th>\n",
              "      <td>1</td>\n",
              "      <td>97</td>\n",
              "      <td>66</td>\n",
              "      <td>15</td>\n",
              "      <td>140</td>\n",
              "      <td>23.2</td>\n",
              "      <td>0.487</td>\n",
              "      <td>22</td>\n",
              "      <td>0</td>\n",
              "    </tr>\n",
              "    <tr>\n",
              "      <th>28</th>\n",
              "      <td>13</td>\n",
              "      <td>145</td>\n",
              "      <td>82</td>\n",
              "      <td>19</td>\n",
              "      <td>110</td>\n",
              "      <td>22.2</td>\n",
              "      <td>0.245</td>\n",
              "      <td>57</td>\n",
              "      <td>0</td>\n",
              "    </tr>\n",
              "    <tr>\n",
              "      <th>29</th>\n",
              "      <td>5</td>\n",
              "      <td>117</td>\n",
              "      <td>92</td>\n",
              "      <td>0</td>\n",
              "      <td>0</td>\n",
              "      <td>34.1</td>\n",
              "      <td>0.337</td>\n",
              "      <td>38</td>\n",
              "      <td>0</td>\n",
              "    </tr>\n",
              "    <tr>\n",
              "      <th>...</th>\n",
              "      <td>...</td>\n",
              "      <td>...</td>\n",
              "      <td>...</td>\n",
              "      <td>...</td>\n",
              "      <td>...</td>\n",
              "      <td>...</td>\n",
              "      <td>...</td>\n",
              "      <td>...</td>\n",
              "      <td>...</td>\n",
              "    </tr>\n",
              "    <tr>\n",
              "      <th>738</th>\n",
              "      <td>2</td>\n",
              "      <td>99</td>\n",
              "      <td>60</td>\n",
              "      <td>17</td>\n",
              "      <td>160</td>\n",
              "      <td>36.6</td>\n",
              "      <td>0.453</td>\n",
              "      <td>21</td>\n",
              "      <td>0</td>\n",
              "    </tr>\n",
              "    <tr>\n",
              "      <th>739</th>\n",
              "      <td>1</td>\n",
              "      <td>102</td>\n",
              "      <td>74</td>\n",
              "      <td>0</td>\n",
              "      <td>0</td>\n",
              "      <td>39.5</td>\n",
              "      <td>0.293</td>\n",
              "      <td>42</td>\n",
              "      <td>1</td>\n",
              "    </tr>\n",
              "    <tr>\n",
              "      <th>740</th>\n",
              "      <td>11</td>\n",
              "      <td>120</td>\n",
              "      <td>80</td>\n",
              "      <td>37</td>\n",
              "      <td>150</td>\n",
              "      <td>42.3</td>\n",
              "      <td>0.785</td>\n",
              "      <td>48</td>\n",
              "      <td>1</td>\n",
              "    </tr>\n",
              "    <tr>\n",
              "      <th>741</th>\n",
              "      <td>3</td>\n",
              "      <td>102</td>\n",
              "      <td>44</td>\n",
              "      <td>20</td>\n",
              "      <td>94</td>\n",
              "      <td>30.8</td>\n",
              "      <td>0.400</td>\n",
              "      <td>26</td>\n",
              "      <td>0</td>\n",
              "    </tr>\n",
              "    <tr>\n",
              "      <th>742</th>\n",
              "      <td>1</td>\n",
              "      <td>109</td>\n",
              "      <td>58</td>\n",
              "      <td>18</td>\n",
              "      <td>116</td>\n",
              "      <td>28.5</td>\n",
              "      <td>0.219</td>\n",
              "      <td>22</td>\n",
              "      <td>0</td>\n",
              "    </tr>\n",
              "    <tr>\n",
              "      <th>743</th>\n",
              "      <td>9</td>\n",
              "      <td>140</td>\n",
              "      <td>94</td>\n",
              "      <td>0</td>\n",
              "      <td>0</td>\n",
              "      <td>32.7</td>\n",
              "      <td>0.734</td>\n",
              "      <td>45</td>\n",
              "      <td>1</td>\n",
              "    </tr>\n",
              "    <tr>\n",
              "      <th>744</th>\n",
              "      <td>13</td>\n",
              "      <td>153</td>\n",
              "      <td>88</td>\n",
              "      <td>37</td>\n",
              "      <td>140</td>\n",
              "      <td>40.6</td>\n",
              "      <td>1.174</td>\n",
              "      <td>39</td>\n",
              "      <td>0</td>\n",
              "    </tr>\n",
              "    <tr>\n",
              "      <th>745</th>\n",
              "      <td>12</td>\n",
              "      <td>100</td>\n",
              "      <td>84</td>\n",
              "      <td>33</td>\n",
              "      <td>105</td>\n",
              "      <td>30.0</td>\n",
              "      <td>0.488</td>\n",
              "      <td>46</td>\n",
              "      <td>0</td>\n",
              "    </tr>\n",
              "    <tr>\n",
              "      <th>746</th>\n",
              "      <td>1</td>\n",
              "      <td>147</td>\n",
              "      <td>94</td>\n",
              "      <td>41</td>\n",
              "      <td>0</td>\n",
              "      <td>49.3</td>\n",
              "      <td>0.358</td>\n",
              "      <td>27</td>\n",
              "      <td>1</td>\n",
              "    </tr>\n",
              "    <tr>\n",
              "      <th>747</th>\n",
              "      <td>1</td>\n",
              "      <td>81</td>\n",
              "      <td>74</td>\n",
              "      <td>41</td>\n",
              "      <td>57</td>\n",
              "      <td>46.3</td>\n",
              "      <td>1.096</td>\n",
              "      <td>32</td>\n",
              "      <td>0</td>\n",
              "    </tr>\n",
              "    <tr>\n",
              "      <th>748</th>\n",
              "      <td>3</td>\n",
              "      <td>187</td>\n",
              "      <td>70</td>\n",
              "      <td>22</td>\n",
              "      <td>200</td>\n",
              "      <td>36.4</td>\n",
              "      <td>0.408</td>\n",
              "      <td>36</td>\n",
              "      <td>1</td>\n",
              "    </tr>\n",
              "    <tr>\n",
              "      <th>749</th>\n",
              "      <td>6</td>\n",
              "      <td>162</td>\n",
              "      <td>62</td>\n",
              "      <td>0</td>\n",
              "      <td>0</td>\n",
              "      <td>24.3</td>\n",
              "      <td>0.178</td>\n",
              "      <td>50</td>\n",
              "      <td>1</td>\n",
              "    </tr>\n",
              "    <tr>\n",
              "      <th>750</th>\n",
              "      <td>4</td>\n",
              "      <td>136</td>\n",
              "      <td>70</td>\n",
              "      <td>0</td>\n",
              "      <td>0</td>\n",
              "      <td>31.2</td>\n",
              "      <td>1.182</td>\n",
              "      <td>22</td>\n",
              "      <td>1</td>\n",
              "    </tr>\n",
              "    <tr>\n",
              "      <th>751</th>\n",
              "      <td>1</td>\n",
              "      <td>121</td>\n",
              "      <td>78</td>\n",
              "      <td>39</td>\n",
              "      <td>74</td>\n",
              "      <td>39.0</td>\n",
              "      <td>0.261</td>\n",
              "      <td>28</td>\n",
              "      <td>0</td>\n",
              "    </tr>\n",
              "    <tr>\n",
              "      <th>752</th>\n",
              "      <td>3</td>\n",
              "      <td>108</td>\n",
              "      <td>62</td>\n",
              "      <td>24</td>\n",
              "      <td>0</td>\n",
              "      <td>26.0</td>\n",
              "      <td>0.223</td>\n",
              "      <td>25</td>\n",
              "      <td>0</td>\n",
              "    </tr>\n",
              "    <tr>\n",
              "      <th>753</th>\n",
              "      <td>0</td>\n",
              "      <td>181</td>\n",
              "      <td>88</td>\n",
              "      <td>44</td>\n",
              "      <td>510</td>\n",
              "      <td>43.3</td>\n",
              "      <td>0.222</td>\n",
              "      <td>26</td>\n",
              "      <td>1</td>\n",
              "    </tr>\n",
              "    <tr>\n",
              "      <th>754</th>\n",
              "      <td>8</td>\n",
              "      <td>154</td>\n",
              "      <td>78</td>\n",
              "      <td>32</td>\n",
              "      <td>0</td>\n",
              "      <td>32.4</td>\n",
              "      <td>0.443</td>\n",
              "      <td>45</td>\n",
              "      <td>1</td>\n",
              "    </tr>\n",
              "    <tr>\n",
              "      <th>755</th>\n",
              "      <td>1</td>\n",
              "      <td>128</td>\n",
              "      <td>88</td>\n",
              "      <td>39</td>\n",
              "      <td>110</td>\n",
              "      <td>36.5</td>\n",
              "      <td>1.057</td>\n",
              "      <td>37</td>\n",
              "      <td>1</td>\n",
              "    </tr>\n",
              "    <tr>\n",
              "      <th>756</th>\n",
              "      <td>7</td>\n",
              "      <td>137</td>\n",
              "      <td>90</td>\n",
              "      <td>41</td>\n",
              "      <td>0</td>\n",
              "      <td>32.0</td>\n",
              "      <td>0.391</td>\n",
              "      <td>39</td>\n",
              "      <td>0</td>\n",
              "    </tr>\n",
              "    <tr>\n",
              "      <th>757</th>\n",
              "      <td>0</td>\n",
              "      <td>123</td>\n",
              "      <td>72</td>\n",
              "      <td>0</td>\n",
              "      <td>0</td>\n",
              "      <td>36.3</td>\n",
              "      <td>0.258</td>\n",
              "      <td>52</td>\n",
              "      <td>1</td>\n",
              "    </tr>\n",
              "    <tr>\n",
              "      <th>758</th>\n",
              "      <td>1</td>\n",
              "      <td>106</td>\n",
              "      <td>76</td>\n",
              "      <td>0</td>\n",
              "      <td>0</td>\n",
              "      <td>37.5</td>\n",
              "      <td>0.197</td>\n",
              "      <td>26</td>\n",
              "      <td>0</td>\n",
              "    </tr>\n",
              "    <tr>\n",
              "      <th>759</th>\n",
              "      <td>6</td>\n",
              "      <td>190</td>\n",
              "      <td>92</td>\n",
              "      <td>0</td>\n",
              "      <td>0</td>\n",
              "      <td>35.5</td>\n",
              "      <td>0.278</td>\n",
              "      <td>66</td>\n",
              "      <td>1</td>\n",
              "    </tr>\n",
              "    <tr>\n",
              "      <th>760</th>\n",
              "      <td>2</td>\n",
              "      <td>88</td>\n",
              "      <td>58</td>\n",
              "      <td>26</td>\n",
              "      <td>16</td>\n",
              "      <td>28.4</td>\n",
              "      <td>0.766</td>\n",
              "      <td>22</td>\n",
              "      <td>0</td>\n",
              "    </tr>\n",
              "    <tr>\n",
              "      <th>761</th>\n",
              "      <td>9</td>\n",
              "      <td>170</td>\n",
              "      <td>74</td>\n",
              "      <td>31</td>\n",
              "      <td>0</td>\n",
              "      <td>44.0</td>\n",
              "      <td>0.403</td>\n",
              "      <td>43</td>\n",
              "      <td>1</td>\n",
              "    </tr>\n",
              "    <tr>\n",
              "      <th>762</th>\n",
              "      <td>9</td>\n",
              "      <td>89</td>\n",
              "      <td>62</td>\n",
              "      <td>0</td>\n",
              "      <td>0</td>\n",
              "      <td>22.5</td>\n",
              "      <td>0.142</td>\n",
              "      <td>33</td>\n",
              "      <td>0</td>\n",
              "    </tr>\n",
              "    <tr>\n",
              "      <th>763</th>\n",
              "      <td>10</td>\n",
              "      <td>101</td>\n",
              "      <td>76</td>\n",
              "      <td>48</td>\n",
              "      <td>180</td>\n",
              "      <td>32.9</td>\n",
              "      <td>0.171</td>\n",
              "      <td>63</td>\n",
              "      <td>0</td>\n",
              "    </tr>\n",
              "    <tr>\n",
              "      <th>764</th>\n",
              "      <td>2</td>\n",
              "      <td>122</td>\n",
              "      <td>70</td>\n",
              "      <td>27</td>\n",
              "      <td>0</td>\n",
              "      <td>36.8</td>\n",
              "      <td>0.340</td>\n",
              "      <td>27</td>\n",
              "      <td>0</td>\n",
              "    </tr>\n",
              "    <tr>\n",
              "      <th>765</th>\n",
              "      <td>5</td>\n",
              "      <td>121</td>\n",
              "      <td>72</td>\n",
              "      <td>23</td>\n",
              "      <td>112</td>\n",
              "      <td>26.2</td>\n",
              "      <td>0.245</td>\n",
              "      <td>30</td>\n",
              "      <td>0</td>\n",
              "    </tr>\n",
              "    <tr>\n",
              "      <th>766</th>\n",
              "      <td>1</td>\n",
              "      <td>126</td>\n",
              "      <td>60</td>\n",
              "      <td>0</td>\n",
              "      <td>0</td>\n",
              "      <td>30.1</td>\n",
              "      <td>0.349</td>\n",
              "      <td>47</td>\n",
              "      <td>1</td>\n",
              "    </tr>\n",
              "    <tr>\n",
              "      <th>767</th>\n",
              "      <td>1</td>\n",
              "      <td>93</td>\n",
              "      <td>70</td>\n",
              "      <td>31</td>\n",
              "      <td>0</td>\n",
              "      <td>30.4</td>\n",
              "      <td>0.315</td>\n",
              "      <td>23</td>\n",
              "      <td>0</td>\n",
              "    </tr>\n",
              "  </tbody>\n",
              "</table>\n",
              "<p>768 rows × 9 columns</p>\n",
              "</div>"
            ],
            "text/plain": [
              "     n_pregnant  glucose_concentration  ...  age  class\n",
              "0             6                    148  ...   50      1\n",
              "1             1                     85  ...   31      0\n",
              "2             8                    183  ...   32      1\n",
              "3             1                     89  ...   21      0\n",
              "4             0                    137  ...   33      1\n",
              "5             5                    116  ...   30      0\n",
              "6             3                     78  ...   26      1\n",
              "7            10                    115  ...   29      0\n",
              "8             2                    197  ...   53      1\n",
              "9             8                    125  ...   54      1\n",
              "10            4                    110  ...   30      0\n",
              "11           10                    168  ...   34      1\n",
              "12           10                    139  ...   57      0\n",
              "13            1                    189  ...   59      1\n",
              "14            5                    166  ...   51      1\n",
              "15            7                    100  ...   32      1\n",
              "16            0                    118  ...   31      1\n",
              "17            7                    107  ...   31      1\n",
              "18            1                    103  ...   33      0\n",
              "19            1                    115  ...   32      1\n",
              "20            3                    126  ...   27      0\n",
              "21            8                     99  ...   50      0\n",
              "22            7                    196  ...   41      1\n",
              "23            9                    119  ...   29      1\n",
              "24           11                    143  ...   51      1\n",
              "25           10                    125  ...   41      1\n",
              "26            7                    147  ...   43      1\n",
              "27            1                     97  ...   22      0\n",
              "28           13                    145  ...   57      0\n",
              "29            5                    117  ...   38      0\n",
              "..          ...                    ...  ...  ...    ...\n",
              "738           2                     99  ...   21      0\n",
              "739           1                    102  ...   42      1\n",
              "740          11                    120  ...   48      1\n",
              "741           3                    102  ...   26      0\n",
              "742           1                    109  ...   22      0\n",
              "743           9                    140  ...   45      1\n",
              "744          13                    153  ...   39      0\n",
              "745          12                    100  ...   46      0\n",
              "746           1                    147  ...   27      1\n",
              "747           1                     81  ...   32      0\n",
              "748           3                    187  ...   36      1\n",
              "749           6                    162  ...   50      1\n",
              "750           4                    136  ...   22      1\n",
              "751           1                    121  ...   28      0\n",
              "752           3                    108  ...   25      0\n",
              "753           0                    181  ...   26      1\n",
              "754           8                    154  ...   45      1\n",
              "755           1                    128  ...   37      1\n",
              "756           7                    137  ...   39      0\n",
              "757           0                    123  ...   52      1\n",
              "758           1                    106  ...   26      0\n",
              "759           6                    190  ...   66      1\n",
              "760           2                     88  ...   22      0\n",
              "761           9                    170  ...   43      1\n",
              "762           9                     89  ...   33      0\n",
              "763          10                    101  ...   63      0\n",
              "764           2                    122  ...   27      0\n",
              "765           5                    121  ...   30      0\n",
              "766           1                    126  ...   47      1\n",
              "767           1                     93  ...   23      0\n",
              "\n",
              "[768 rows x 9 columns]"
            ]
          },
          "metadata": {
            "tags": []
          },
          "execution_count": 7
        }
      ]
    },
    {
      "cell_type": "code",
      "metadata": {
        "id": "Zw9mqJA94tWY",
        "colab_type": "code",
        "colab": {
          "base_uri": "https://localhost:8080/",
          "height": 297
        },
        "outputId": "eae8dff5-0080-47dc-df70-f5b129775d20"
      },
      "source": [
        "df.describe()"
      ],
      "execution_count": 8,
      "outputs": [
        {
          "output_type": "execute_result",
          "data": {
            "text/html": [
              "<div>\n",
              "<style scoped>\n",
              "    .dataframe tbody tr th:only-of-type {\n",
              "        vertical-align: middle;\n",
              "    }\n",
              "\n",
              "    .dataframe tbody tr th {\n",
              "        vertical-align: top;\n",
              "    }\n",
              "\n",
              "    .dataframe thead th {\n",
              "        text-align: right;\n",
              "    }\n",
              "</style>\n",
              "<table border=\"1\" class=\"dataframe\">\n",
              "  <thead>\n",
              "    <tr style=\"text-align: right;\">\n",
              "      <th></th>\n",
              "      <th>n_pregnant</th>\n",
              "      <th>glucose_concentration</th>\n",
              "      <th>blood_pressure(mm Hg)</th>\n",
              "      <th>skin_thickness(mm)</th>\n",
              "      <th>serum_insulin</th>\n",
              "      <th>BMI</th>\n",
              "      <th>pedigree_function</th>\n",
              "      <th>age</th>\n",
              "      <th>class</th>\n",
              "    </tr>\n",
              "  </thead>\n",
              "  <tbody>\n",
              "    <tr>\n",
              "      <th>count</th>\n",
              "      <td>768.000000</td>\n",
              "      <td>768.000000</td>\n",
              "      <td>768.000000</td>\n",
              "      <td>768.000000</td>\n",
              "      <td>768.000000</td>\n",
              "      <td>768.000000</td>\n",
              "      <td>768.000000</td>\n",
              "      <td>768.000000</td>\n",
              "      <td>768.000000</td>\n",
              "    </tr>\n",
              "    <tr>\n",
              "      <th>mean</th>\n",
              "      <td>3.845052</td>\n",
              "      <td>120.894531</td>\n",
              "      <td>69.105469</td>\n",
              "      <td>20.536458</td>\n",
              "      <td>79.799479</td>\n",
              "      <td>31.992578</td>\n",
              "      <td>0.471876</td>\n",
              "      <td>33.240885</td>\n",
              "      <td>0.348958</td>\n",
              "    </tr>\n",
              "    <tr>\n",
              "      <th>std</th>\n",
              "      <td>3.369578</td>\n",
              "      <td>31.972618</td>\n",
              "      <td>19.355807</td>\n",
              "      <td>15.952218</td>\n",
              "      <td>115.244002</td>\n",
              "      <td>7.884160</td>\n",
              "      <td>0.331329</td>\n",
              "      <td>11.760232</td>\n",
              "      <td>0.476951</td>\n",
              "    </tr>\n",
              "    <tr>\n",
              "      <th>min</th>\n",
              "      <td>0.000000</td>\n",
              "      <td>0.000000</td>\n",
              "      <td>0.000000</td>\n",
              "      <td>0.000000</td>\n",
              "      <td>0.000000</td>\n",
              "      <td>0.000000</td>\n",
              "      <td>0.078000</td>\n",
              "      <td>21.000000</td>\n",
              "      <td>0.000000</td>\n",
              "    </tr>\n",
              "    <tr>\n",
              "      <th>25%</th>\n",
              "      <td>1.000000</td>\n",
              "      <td>99.000000</td>\n",
              "      <td>62.000000</td>\n",
              "      <td>0.000000</td>\n",
              "      <td>0.000000</td>\n",
              "      <td>27.300000</td>\n",
              "      <td>0.243750</td>\n",
              "      <td>24.000000</td>\n",
              "      <td>0.000000</td>\n",
              "    </tr>\n",
              "    <tr>\n",
              "      <th>50%</th>\n",
              "      <td>3.000000</td>\n",
              "      <td>117.000000</td>\n",
              "      <td>72.000000</td>\n",
              "      <td>23.000000</td>\n",
              "      <td>30.500000</td>\n",
              "      <td>32.000000</td>\n",
              "      <td>0.372500</td>\n",
              "      <td>29.000000</td>\n",
              "      <td>0.000000</td>\n",
              "    </tr>\n",
              "    <tr>\n",
              "      <th>75%</th>\n",
              "      <td>6.000000</td>\n",
              "      <td>140.250000</td>\n",
              "      <td>80.000000</td>\n",
              "      <td>32.000000</td>\n",
              "      <td>127.250000</td>\n",
              "      <td>36.600000</td>\n",
              "      <td>0.626250</td>\n",
              "      <td>41.000000</td>\n",
              "      <td>1.000000</td>\n",
              "    </tr>\n",
              "    <tr>\n",
              "      <th>max</th>\n",
              "      <td>17.000000</td>\n",
              "      <td>199.000000</td>\n",
              "      <td>122.000000</td>\n",
              "      <td>99.000000</td>\n",
              "      <td>846.000000</td>\n",
              "      <td>67.100000</td>\n",
              "      <td>2.420000</td>\n",
              "      <td>81.000000</td>\n",
              "      <td>1.000000</td>\n",
              "    </tr>\n",
              "  </tbody>\n",
              "</table>\n",
              "</div>"
            ],
            "text/plain": [
              "       n_pregnant  glucose_concentration  ...         age       class\n",
              "count  768.000000             768.000000  ...  768.000000  768.000000\n",
              "mean     3.845052             120.894531  ...   33.240885    0.348958\n",
              "std      3.369578              31.972618  ...   11.760232    0.476951\n",
              "min      0.000000               0.000000  ...   21.000000    0.000000\n",
              "25%      1.000000              99.000000  ...   24.000000    0.000000\n",
              "50%      3.000000             117.000000  ...   29.000000    0.000000\n",
              "75%      6.000000             140.250000  ...   41.000000    1.000000\n",
              "max     17.000000             199.000000  ...   81.000000    1.000000\n",
              "\n",
              "[8 rows x 9 columns]"
            ]
          },
          "metadata": {
            "tags": []
          },
          "execution_count": 8
        }
      ]
    },
    {
      "cell_type": "code",
      "metadata": {
        "id": "ilADtLPf5_9L",
        "colab_type": "code",
        "colab": {
          "base_uri": "https://localhost:8080/",
          "height": 204
        },
        "outputId": "8e8912de-fd25-41fe-a2e0-5d000941ae8d"
      },
      "source": [
        "df[df['glucose_concentration']==0]"
      ],
      "execution_count": 9,
      "outputs": [
        {
          "output_type": "execute_result",
          "data": {
            "text/html": [
              "<div>\n",
              "<style scoped>\n",
              "    .dataframe tbody tr th:only-of-type {\n",
              "        vertical-align: middle;\n",
              "    }\n",
              "\n",
              "    .dataframe tbody tr th {\n",
              "        vertical-align: top;\n",
              "    }\n",
              "\n",
              "    .dataframe thead th {\n",
              "        text-align: right;\n",
              "    }\n",
              "</style>\n",
              "<table border=\"1\" class=\"dataframe\">\n",
              "  <thead>\n",
              "    <tr style=\"text-align: right;\">\n",
              "      <th></th>\n",
              "      <th>n_pregnant</th>\n",
              "      <th>glucose_concentration</th>\n",
              "      <th>blood_pressure(mm Hg)</th>\n",
              "      <th>skin_thickness(mm)</th>\n",
              "      <th>serum_insulin</th>\n",
              "      <th>BMI</th>\n",
              "      <th>pedigree_function</th>\n",
              "      <th>age</th>\n",
              "      <th>class</th>\n",
              "    </tr>\n",
              "  </thead>\n",
              "  <tbody>\n",
              "    <tr>\n",
              "      <th>75</th>\n",
              "      <td>1</td>\n",
              "      <td>0</td>\n",
              "      <td>48</td>\n",
              "      <td>20</td>\n",
              "      <td>0</td>\n",
              "      <td>24.7</td>\n",
              "      <td>0.140</td>\n",
              "      <td>22</td>\n",
              "      <td>0</td>\n",
              "    </tr>\n",
              "    <tr>\n",
              "      <th>182</th>\n",
              "      <td>1</td>\n",
              "      <td>0</td>\n",
              "      <td>74</td>\n",
              "      <td>20</td>\n",
              "      <td>23</td>\n",
              "      <td>27.7</td>\n",
              "      <td>0.299</td>\n",
              "      <td>21</td>\n",
              "      <td>0</td>\n",
              "    </tr>\n",
              "    <tr>\n",
              "      <th>342</th>\n",
              "      <td>1</td>\n",
              "      <td>0</td>\n",
              "      <td>68</td>\n",
              "      <td>35</td>\n",
              "      <td>0</td>\n",
              "      <td>32.0</td>\n",
              "      <td>0.389</td>\n",
              "      <td>22</td>\n",
              "      <td>0</td>\n",
              "    </tr>\n",
              "    <tr>\n",
              "      <th>349</th>\n",
              "      <td>5</td>\n",
              "      <td>0</td>\n",
              "      <td>80</td>\n",
              "      <td>32</td>\n",
              "      <td>0</td>\n",
              "      <td>41.0</td>\n",
              "      <td>0.346</td>\n",
              "      <td>37</td>\n",
              "      <td>1</td>\n",
              "    </tr>\n",
              "    <tr>\n",
              "      <th>502</th>\n",
              "      <td>6</td>\n",
              "      <td>0</td>\n",
              "      <td>68</td>\n",
              "      <td>41</td>\n",
              "      <td>0</td>\n",
              "      <td>39.0</td>\n",
              "      <td>0.727</td>\n",
              "      <td>41</td>\n",
              "      <td>1</td>\n",
              "    </tr>\n",
              "  </tbody>\n",
              "</table>\n",
              "</div>"
            ],
            "text/plain": [
              "     n_pregnant  glucose_concentration  ...  age  class\n",
              "75            1                      0  ...   22      0\n",
              "182           1                      0  ...   21      0\n",
              "342           1                      0  ...   22      0\n",
              "349           5                      0  ...   37      1\n",
              "502           6                      0  ...   41      1\n",
              "\n",
              "[5 rows x 9 columns]"
            ]
          },
          "metadata": {
            "tags": []
          },
          "execution_count": 9
        }
      ]
    },
    {
      "cell_type": "code",
      "metadata": {
        "id": "EGnqev0V6RCf",
        "colab_type": "code",
        "colab": {
          "base_uri": "https://localhost:8080/",
          "height": 297
        },
        "outputId": "40730e6e-f10b-4df3-d748-62590bde6d5d"
      },
      "source": [
        "\n",
        "#preprocess the data ,mark as zerovalues nan and drop\n",
        "columns=['glucose_concentration','blood_pressure(mm Hg)','skin_thickness(mm)','serum_insulin',\n",
        "         'BMI']\n",
        "for col  in columns:\n",
        "  df[col].replace(0,np.NaN,inplace=True)\n",
        "\n",
        "df.describe()"
      ],
      "execution_count": 10,
      "outputs": [
        {
          "output_type": "execute_result",
          "data": {
            "text/html": [
              "<div>\n",
              "<style scoped>\n",
              "    .dataframe tbody tr th:only-of-type {\n",
              "        vertical-align: middle;\n",
              "    }\n",
              "\n",
              "    .dataframe tbody tr th {\n",
              "        vertical-align: top;\n",
              "    }\n",
              "\n",
              "    .dataframe thead th {\n",
              "        text-align: right;\n",
              "    }\n",
              "</style>\n",
              "<table border=\"1\" class=\"dataframe\">\n",
              "  <thead>\n",
              "    <tr style=\"text-align: right;\">\n",
              "      <th></th>\n",
              "      <th>n_pregnant</th>\n",
              "      <th>glucose_concentration</th>\n",
              "      <th>blood_pressure(mm Hg)</th>\n",
              "      <th>skin_thickness(mm)</th>\n",
              "      <th>serum_insulin</th>\n",
              "      <th>BMI</th>\n",
              "      <th>pedigree_function</th>\n",
              "      <th>age</th>\n",
              "      <th>class</th>\n",
              "    </tr>\n",
              "  </thead>\n",
              "  <tbody>\n",
              "    <tr>\n",
              "      <th>count</th>\n",
              "      <td>768.000000</td>\n",
              "      <td>763.000000</td>\n",
              "      <td>733.000000</td>\n",
              "      <td>541.000000</td>\n",
              "      <td>394.000000</td>\n",
              "      <td>757.000000</td>\n",
              "      <td>768.000000</td>\n",
              "      <td>768.000000</td>\n",
              "      <td>768.000000</td>\n",
              "    </tr>\n",
              "    <tr>\n",
              "      <th>mean</th>\n",
              "      <td>3.845052</td>\n",
              "      <td>121.686763</td>\n",
              "      <td>72.405184</td>\n",
              "      <td>29.153420</td>\n",
              "      <td>155.548223</td>\n",
              "      <td>32.457464</td>\n",
              "      <td>0.471876</td>\n",
              "      <td>33.240885</td>\n",
              "      <td>0.348958</td>\n",
              "    </tr>\n",
              "    <tr>\n",
              "      <th>std</th>\n",
              "      <td>3.369578</td>\n",
              "      <td>30.535641</td>\n",
              "      <td>12.382158</td>\n",
              "      <td>10.476982</td>\n",
              "      <td>118.775855</td>\n",
              "      <td>6.924988</td>\n",
              "      <td>0.331329</td>\n",
              "      <td>11.760232</td>\n",
              "      <td>0.476951</td>\n",
              "    </tr>\n",
              "    <tr>\n",
              "      <th>min</th>\n",
              "      <td>0.000000</td>\n",
              "      <td>44.000000</td>\n",
              "      <td>24.000000</td>\n",
              "      <td>7.000000</td>\n",
              "      <td>14.000000</td>\n",
              "      <td>18.200000</td>\n",
              "      <td>0.078000</td>\n",
              "      <td>21.000000</td>\n",
              "      <td>0.000000</td>\n",
              "    </tr>\n",
              "    <tr>\n",
              "      <th>25%</th>\n",
              "      <td>1.000000</td>\n",
              "      <td>99.000000</td>\n",
              "      <td>64.000000</td>\n",
              "      <td>22.000000</td>\n",
              "      <td>76.250000</td>\n",
              "      <td>27.500000</td>\n",
              "      <td>0.243750</td>\n",
              "      <td>24.000000</td>\n",
              "      <td>0.000000</td>\n",
              "    </tr>\n",
              "    <tr>\n",
              "      <th>50%</th>\n",
              "      <td>3.000000</td>\n",
              "      <td>117.000000</td>\n",
              "      <td>72.000000</td>\n",
              "      <td>29.000000</td>\n",
              "      <td>125.000000</td>\n",
              "      <td>32.300000</td>\n",
              "      <td>0.372500</td>\n",
              "      <td>29.000000</td>\n",
              "      <td>0.000000</td>\n",
              "    </tr>\n",
              "    <tr>\n",
              "      <th>75%</th>\n",
              "      <td>6.000000</td>\n",
              "      <td>141.000000</td>\n",
              "      <td>80.000000</td>\n",
              "      <td>36.000000</td>\n",
              "      <td>190.000000</td>\n",
              "      <td>36.600000</td>\n",
              "      <td>0.626250</td>\n",
              "      <td>41.000000</td>\n",
              "      <td>1.000000</td>\n",
              "    </tr>\n",
              "    <tr>\n",
              "      <th>max</th>\n",
              "      <td>17.000000</td>\n",
              "      <td>199.000000</td>\n",
              "      <td>122.000000</td>\n",
              "      <td>99.000000</td>\n",
              "      <td>846.000000</td>\n",
              "      <td>67.100000</td>\n",
              "      <td>2.420000</td>\n",
              "      <td>81.000000</td>\n",
              "      <td>1.000000</td>\n",
              "    </tr>\n",
              "  </tbody>\n",
              "</table>\n",
              "</div>"
            ],
            "text/plain": [
              "       n_pregnant  glucose_concentration  ...         age       class\n",
              "count  768.000000             763.000000  ...  768.000000  768.000000\n",
              "mean     3.845052             121.686763  ...   33.240885    0.348958\n",
              "std      3.369578              30.535641  ...   11.760232    0.476951\n",
              "min      0.000000              44.000000  ...   21.000000    0.000000\n",
              "25%      1.000000              99.000000  ...   24.000000    0.000000\n",
              "50%      3.000000             117.000000  ...   29.000000    0.000000\n",
              "75%      6.000000             141.000000  ...   41.000000    1.000000\n",
              "max     17.000000             199.000000  ...   81.000000    1.000000\n",
              "\n",
              "[8 rows x 9 columns]"
            ]
          },
          "metadata": {
            "tags": []
          },
          "execution_count": 10
        }
      ]
    },
    {
      "cell_type": "code",
      "metadata": {
        "id": "RKyXayT76_dI",
        "colab_type": "code",
        "colab": {
          "base_uri": "https://localhost:8080/",
          "height": 1000
        },
        "outputId": "3ca1a5fc-7064-4c61-eaaa-8df767e40d53"
      },
      "source": [
        "df.dropna(inplace=True)\n",
        "df.describe"
      ],
      "execution_count": 11,
      "outputs": [
        {
          "output_type": "execute_result",
          "data": {
            "text/plain": [
              "<bound method DataFrame.describe of      n_pregnant  glucose_concentration  ...  age  class\n",
              "3             1                   89.0  ...   21      0\n",
              "4             0                  137.0  ...   33      1\n",
              "6             3                   78.0  ...   26      1\n",
              "8             2                  197.0  ...   53      1\n",
              "13            1                  189.0  ...   59      1\n",
              "14            5                  166.0  ...   51      1\n",
              "16            0                  118.0  ...   31      1\n",
              "18            1                  103.0  ...   33      0\n",
              "19            1                  115.0  ...   32      1\n",
              "20            3                  126.0  ...   27      0\n",
              "24           11                  143.0  ...   51      1\n",
              "25           10                  125.0  ...   41      1\n",
              "27            1                   97.0  ...   22      0\n",
              "28           13                  145.0  ...   57      0\n",
              "31            3                  158.0  ...   28      1\n",
              "32            3                   88.0  ...   22      0\n",
              "35            4                  103.0  ...   33      0\n",
              "39            4                  111.0  ...   56      1\n",
              "40            3                  180.0  ...   26      0\n",
              "43            9                  171.0  ...   54      1\n",
              "50            1                  103.0  ...   22      0\n",
              "51            1                  101.0  ...   26      0\n",
              "52            5                   88.0  ...   30      0\n",
              "53            8                  176.0  ...   58      1\n",
              "54            7                  150.0  ...   42      0\n",
              "56            7                  187.0  ...   41      1\n",
              "57            0                  100.0  ...   31      0\n",
              "59            0                  105.0  ...   22      0\n",
              "63            2                  141.0  ...   24      0\n",
              "68            1                   95.0  ...   25      0\n",
              "..          ...                    ...  ...  ...    ...\n",
              "707           2                  127.0  ...   22      0\n",
              "709           2                   93.0  ...   23      1\n",
              "710           3                  158.0  ...   24      0\n",
              "711           5                  126.0  ...   40      0\n",
              "713           0                  134.0  ...   21      0\n",
              "715           7                  187.0  ...   34      1\n",
              "716           3                  173.0  ...   31      1\n",
              "718           1                  108.0  ...   24      0\n",
              "721           1                  114.0  ...   21      0\n",
              "722           1                  149.0  ...   42      1\n",
              "723           5                  117.0  ...   42      0\n",
              "726           1                  116.0  ...   25      0\n",
              "730           3                  130.0  ...   34      1\n",
              "732           2                  174.0  ...   24      1\n",
              "733           2                  106.0  ...   22      0\n",
              "736           0                  126.0  ...   21      0\n",
              "738           2                   99.0  ...   21      0\n",
              "740          11                  120.0  ...   48      1\n",
              "741           3                  102.0  ...   26      0\n",
              "742           1                  109.0  ...   22      0\n",
              "744          13                  153.0  ...   39      0\n",
              "745          12                  100.0  ...   46      0\n",
              "747           1                   81.0  ...   32      0\n",
              "748           3                  187.0  ...   36      1\n",
              "751           1                  121.0  ...   28      0\n",
              "753           0                  181.0  ...   26      1\n",
              "755           1                  128.0  ...   37      1\n",
              "760           2                   88.0  ...   22      0\n",
              "763          10                  101.0  ...   63      0\n",
              "765           5                  121.0  ...   30      0\n",
              "\n",
              "[392 rows x 9 columns]>"
            ]
          },
          "metadata": {
            "tags": []
          },
          "execution_count": 11
        }
      ]
    },
    {
      "cell_type": "code",
      "metadata": {
        "id": "vvxyvtSQ7KL7",
        "colab_type": "code",
        "colab": {
          "base_uri": "https://localhost:8080/",
          "height": 34
        },
        "outputId": "7bc347f3-5a46-4453-d92f-3d533cd1d71b"
      },
      "source": [
        "# convert dataframe to numpy array\n",
        "dataset = df.values\n",
        "print(dataset.shape)"
      ],
      "execution_count": 12,
      "outputs": [
        {
          "output_type": "stream",
          "text": [
            "(392, 9)\n"
          ],
          "name": "stdout"
        }
      ]
    },
    {
      "cell_type": "code",
      "metadata": {
        "id": "md1JKoQW7nLr",
        "colab_type": "code",
        "colab": {}
      },
      "source": [
        "X=dataset[:,0:8]\n",
        "Y=dataset[:,8].astype(int)"
      ],
      "execution_count": 0,
      "outputs": []
    },
    {
      "cell_type": "code",
      "metadata": {
        "id": "A_hVDKIR7z-d",
        "colab_type": "code",
        "colab": {
          "base_uri": "https://localhost:8080/",
          "height": 68
        },
        "outputId": "98ef583b-f062-420e-f968-6c42b98bb260"
      },
      "source": [
        "print(X.shape)\n",
        "print(Y.shape)\n",
        "print(Y[:5])"
      ],
      "execution_count": 14,
      "outputs": [
        {
          "output_type": "stream",
          "text": [
            "(392, 8)\n",
            "(392,)\n",
            "[0 1 1 1 1]\n"
          ],
          "name": "stdout"
        }
      ]
    },
    {
      "cell_type": "code",
      "metadata": {
        "id": "PaNsevNP7-p5",
        "colab_type": "code",
        "colab": {}
      },
      "source": [
        "#normalize the data using sklearn\n",
        "\n",
        "from sklearn.preprocessing import StandardScaler\n",
        "scalar =StandardScaler().fit(X)"
      ],
      "execution_count": 0,
      "outputs": []
    },
    {
      "cell_type": "code",
      "metadata": {
        "id": "LdI9eH4X8WJ1",
        "colab_type": "code",
        "colab": {
          "base_uri": "https://localhost:8080/",
          "height": 34
        },
        "outputId": "a825aa70-a5ba-4c24-b1a7-ed7afc08df07"
      },
      "source": [
        "print(scalar)"
      ],
      "execution_count": 16,
      "outputs": [
        {
          "output_type": "stream",
          "text": [
            "StandardScaler(copy=True, with_mean=True, with_std=True)\n"
          ],
          "name": "stdout"
        }
      ]
    },
    {
      "cell_type": "code",
      "metadata": {
        "id": "8zxTxuoS8cvO",
        "colab_type": "code",
        "colab": {
          "base_uri": "https://localhost:8080/",
          "height": 297
        },
        "outputId": "869dde77-8cb4-4e3d-d983-e741930f662d"
      },
      "source": [
        "X_standardized =scalar.transform(X)\n",
        "data = pd.DataFrame(X_standardized)\n",
        "data.describe()"
      ],
      "execution_count": 17,
      "outputs": [
        {
          "output_type": "execute_result",
          "data": {
            "text/html": [
              "<div>\n",
              "<style scoped>\n",
              "    .dataframe tbody tr th:only-of-type {\n",
              "        vertical-align: middle;\n",
              "    }\n",
              "\n",
              "    .dataframe tbody tr th {\n",
              "        vertical-align: top;\n",
              "    }\n",
              "\n",
              "    .dataframe thead th {\n",
              "        text-align: right;\n",
              "    }\n",
              "</style>\n",
              "<table border=\"1\" class=\"dataframe\">\n",
              "  <thead>\n",
              "    <tr style=\"text-align: right;\">\n",
              "      <th></th>\n",
              "      <th>0</th>\n",
              "      <th>1</th>\n",
              "      <th>2</th>\n",
              "      <th>3</th>\n",
              "      <th>4</th>\n",
              "      <th>5</th>\n",
              "      <th>6</th>\n",
              "      <th>7</th>\n",
              "    </tr>\n",
              "  </thead>\n",
              "  <tbody>\n",
              "    <tr>\n",
              "      <th>count</th>\n",
              "      <td>3.920000e+02</td>\n",
              "      <td>3.920000e+02</td>\n",
              "      <td>3.920000e+02</td>\n",
              "      <td>3.920000e+02</td>\n",
              "      <td>3.920000e+02</td>\n",
              "      <td>3.920000e+02</td>\n",
              "      <td>3.920000e+02</td>\n",
              "      <td>3.920000e+02</td>\n",
              "    </tr>\n",
              "    <tr>\n",
              "      <th>mean</th>\n",
              "      <td>-9.063045e-18</td>\n",
              "      <td>1.132881e-17</td>\n",
              "      <td>-4.531523e-16</td>\n",
              "      <td>1.087565e-16</td>\n",
              "      <td>1.064908e-16</td>\n",
              "      <td>1.631348e-16</td>\n",
              "      <td>1.812609e-17</td>\n",
              "      <td>1.110223e-16</td>\n",
              "    </tr>\n",
              "    <tr>\n",
              "      <th>std</th>\n",
              "      <td>1.001278e+00</td>\n",
              "      <td>1.001278e+00</td>\n",
              "      <td>1.001278e+00</td>\n",
              "      <td>1.001278e+00</td>\n",
              "      <td>1.001278e+00</td>\n",
              "      <td>1.001278e+00</td>\n",
              "      <td>1.001278e+00</td>\n",
              "      <td>1.001278e+00</td>\n",
              "    </tr>\n",
              "    <tr>\n",
              "      <th>min</th>\n",
              "      <td>-1.029213e+00</td>\n",
              "      <td>-2.161731e+00</td>\n",
              "      <td>-3.739001e+00</td>\n",
              "      <td>-2.108484e+00</td>\n",
              "      <td>-1.196867e+00</td>\n",
              "      <td>-2.120941e+00</td>\n",
              "      <td>-1.269525e+00</td>\n",
              "      <td>-9.682991e-01</td>\n",
              "    </tr>\n",
              "    <tr>\n",
              "      <th>25%</th>\n",
              "      <td>-7.174265e-01</td>\n",
              "      <td>-7.665958e-01</td>\n",
              "      <td>-6.941640e-01</td>\n",
              "      <td>-7.755315e-01</td>\n",
              "      <td>-6.681786e-01</td>\n",
              "      <td>-6.676780e-01</td>\n",
              "      <td>-7.340909e-01</td>\n",
              "      <td>-7.719850e-01</td>\n",
              "    </tr>\n",
              "    <tr>\n",
              "      <th>50%</th>\n",
              "      <td>-4.056403e-01</td>\n",
              "      <td>-1.176959e-01</td>\n",
              "      <td>-5.314565e-02</td>\n",
              "      <td>-1.384444e-02</td>\n",
              "      <td>-2.574448e-01</td>\n",
              "      <td>1.621036e-02</td>\n",
              "      <td>-2.131475e-01</td>\n",
              "      <td>-3.793569e-01</td>\n",
              "    </tr>\n",
              "    <tr>\n",
              "      <th>75%</th>\n",
              "      <td>5.297185e-01</td>\n",
              "      <td>6.609841e-01</td>\n",
              "      <td>5.878727e-01</td>\n",
              "      <td>7.478426e-01</td>\n",
              "      <td>2.859877e-01</td>\n",
              "      <td>5.718696e-01</td>\n",
              "      <td>4.751644e-01</td>\n",
              "      <td>5.040564e-01</td>\n",
              "    </tr>\n",
              "    <tr>\n",
              "      <th>max</th>\n",
              "      <td>4.271153e+00</td>\n",
              "      <td>2.445459e+00</td>\n",
              "      <td>3.151946e+00</td>\n",
              "      <td>3.223325e+00</td>\n",
              "      <td>5.812990e+00</td>\n",
              "      <td>4.846172e+00</td>\n",
              "      <td>5.497667e+00</td>\n",
              "      <td>4.921123e+00</td>\n",
              "    </tr>\n",
              "  </tbody>\n",
              "</table>\n",
              "</div>"
            ],
            "text/plain": [
              "                  0             1  ...             6             7\n",
              "count  3.920000e+02  3.920000e+02  ...  3.920000e+02  3.920000e+02\n",
              "mean  -9.063045e-18  1.132881e-17  ...  1.812609e-17  1.110223e-16\n",
              "std    1.001278e+00  1.001278e+00  ...  1.001278e+00  1.001278e+00\n",
              "min   -1.029213e+00 -2.161731e+00  ... -1.269525e+00 -9.682991e-01\n",
              "25%   -7.174265e-01 -7.665958e-01  ... -7.340909e-01 -7.719850e-01\n",
              "50%   -4.056403e-01 -1.176959e-01  ... -2.131475e-01 -3.793569e-01\n",
              "75%    5.297185e-01  6.609841e-01  ...  4.751644e-01  5.040564e-01\n",
              "max    4.271153e+00  2.445459e+00  ...  5.497667e+00  4.921123e+00\n",
              "\n",
              "[8 rows x 8 columns]"
            ]
          },
          "metadata": {
            "tags": []
          },
          "execution_count": 17
        }
      ]
    },
    {
      "cell_type": "code",
      "metadata": {
        "id": "u2CwVw449CjD",
        "colab_type": "code",
        "colab": {}
      },
      "source": [
        "from sklearn.model_selection import GridSearchCV,KFold\n",
        "from keras.models import Sequential\n",
        "from keras.layers import Dense\n",
        "from keras.wrappers.scikit_learn import KerasClassifier\n",
        "from keras.optimizers import Adam"
      ],
      "execution_count": 0,
      "outputs": []
    },
    {
      "cell_type": "code",
      "metadata": {
        "id": "7ksK5P4x-R7y",
        "colab_type": "code",
        "colab": {
          "base_uri": "https://localhost:8080/",
          "height": 530
        },
        "outputId": "8170d324-5257-441c-8517-860a3ba03082"
      },
      "source": [
        "def create_model():\n",
        "  model=Sequential()\n",
        "  model.add(Dense(8,input_dim=8,kernel_initializer='normal',activation='relu'))\n",
        "  model.add(Dense(4,input_dim=8,kernel_initializer='normal',activation='relu'))\n",
        "  model.add(Dense(1,activation='sigmoid'))\n",
        "  adam = Adam(lr = 0.01) \n",
        "  model.compile(loss='binary_crossentropy',optimizer=adam,metrics=['accuracy'])\n",
        "  return model\n",
        "model = create_model()\n",
        "model.summary()\n"
      ],
      "execution_count": 15,
      "outputs": [
        {
          "output_type": "stream",
          "text": [
            "WARNING: Logging before flag parsing goes to stderr.\n",
            "W0109 14:23:28.587085 139908074243968 module_wrapper.py:139] From /usr/local/lib/python2.7/dist-packages/keras/backend/tensorflow_backend.py:74: The name tf.get_default_graph is deprecated. Please use tf.compat.v1.get_default_graph instead.\n",
            "\n",
            "W0109 14:23:28.598876 139908074243968 module_wrapper.py:139] From /usr/local/lib/python2.7/dist-packages/keras/backend/tensorflow_backend.py:517: The name tf.placeholder is deprecated. Please use tf.compat.v1.placeholder instead.\n",
            "\n",
            "W0109 14:23:28.605475 139908074243968 module_wrapper.py:139] From /usr/local/lib/python2.7/dist-packages/keras/backend/tensorflow_backend.py:4115: The name tf.random_normal is deprecated. Please use tf.random.normal instead.\n",
            "\n",
            "W0109 14:23:28.629021 139908074243968 module_wrapper.py:139] From /usr/local/lib/python2.7/dist-packages/keras/backend/tensorflow_backend.py:4138: The name tf.random_uniform is deprecated. Please use tf.random.uniform instead.\n",
            "\n",
            "W0109 14:23:28.653407 139908074243968 module_wrapper.py:139] From /usr/local/lib/python2.7/dist-packages/keras/optimizers.py:790: The name tf.train.Optimizer is deprecated. Please use tf.compat.v1.train.Optimizer instead.\n",
            "\n",
            "W0109 14:23:28.659360 139908074243968 module_wrapper.py:139] From /usr/local/lib/python2.7/dist-packages/keras/backend/tensorflow_backend.py:3376: The name tf.log is deprecated. Please use tf.math.log instead.\n",
            "\n",
            "W0109 14:23:28.664853 139908074243968 deprecation.py:323] From /usr/local/lib/python2.7/dist-packages/tensorflow_core/python/ops/nn_impl.py:183: where (from tensorflow.python.ops.array_ops) is deprecated and will be removed in a future version.\n",
            "Instructions for updating:\n",
            "Use tf.where in 2.0, which has the same broadcast rule as np.where\n"
          ],
          "name": "stderr"
        },
        {
          "output_type": "stream",
          "text": [
            "_________________________________________________________________\n",
            "Layer (type)                 Output Shape              Param #   \n",
            "=================================================================\n",
            "dense_1 (Dense)              (None, 8)                 72        \n",
            "_________________________________________________________________\n",
            "dense_2 (Dense)              (None, 4)                 36        \n",
            "_________________________________________________________________\n",
            "dense_3 (Dense)              (None, 1)                 5         \n",
            "=================================================================\n",
            "Total params: 113\n",
            "Trainable params: 113\n",
            "Non-trainable params: 0\n",
            "_________________________________________________________________\n"
          ],
          "name": "stdout"
        }
      ]
    },
    {
      "cell_type": "code",
      "metadata": {
        "id": "tjDyeWkI_daW",
        "colab_type": "code",
        "colab": {
          "base_uri": "https://localhost:8080/",
          "height": 1000
        },
        "outputId": "57fe3ee7-f9ea-4535-e814-4902395a40c3"
      },
      "source": [
        "seed = 6\n",
        "np.random.seed(seed)\n",
        "def create_model():\n",
        "  model=Sequential()\n",
        "  model.add(Dense(8,input_dim=8,kernel_initializer='normal',activation='relu'))\n",
        "  model.add(Dense(4,input_dim=8,kernel_initializer='normal',activation='relu'))\n",
        "  model.add(Dense(1,activation='sigmoid'))\n",
        "  adam = Adam(lr = 0.01) \n",
        "  model.compile(loss='binary_crossentropy',optimizer=adam,metrics=['accuracy'])\n",
        "  return model\n",
        "#create the model  \n",
        "model = KerasClassifier(build_fn = create_model,verbose=0)\n",
        "\n",
        "#define the gridsearch parameters\n",
        "batch_size = [10,20,40]\n",
        "epochs = [10,50,100]\n",
        "#make a dictionary of gridsearch parameters\n",
        "param_grid = dict(batch_size=batch_size,epochs=epochs)\n",
        "# build and fit the gridsearchCV\n",
        "grid = GridSearchCV(estimator = model,param_grid=param_grid,cv=KFold(random_state=seed),verbose = 10)\n",
        "grid_result = grid.fit(X_standardized,Y)\n",
        "\n",
        "print(\"Best: {0}, using {1}\".format(grid_result.best_score_,grid_result.best_params_))\n",
        "means = grid_result.cv_results_['mean_test_score']\n",
        "stds = grid_result.cv_results_['std_test_score']\n",
        "params = grid_result.cv_results_['params']\n",
        "for mean,stdev,param in zip(means,stds,params):\n",
        "  print('{0} ((1)) with: (2)'.format(mean, stdev, param))\n",
        "  \n"
      ],
      "execution_count": 16,
      "outputs": [
        {
          "output_type": "stream",
          "text": [
            "/usr/local/lib/python2.7/dist-packages/sklearn/model_selection/_split.py:426: FutureWarning: You should specify a value for 'n_splits' instead of relying on the default value. The default value will change from 3 to 5 in version 0.22.\n",
            "  warnings.warn(NSPLIT_WARNING, FutureWarning)\n",
            "[Parallel(n_jobs=1)]: Using backend SequentialBackend with 1 concurrent workers.\n"
          ],
          "name": "stderr"
        },
        {
          "output_type": "stream",
          "text": [
            "Fitting 3 folds for each of 9 candidates, totalling 27 fits\n",
            "[CV] epochs=10, batch_size=10 ........................................\n"
          ],
          "name": "stdout"
        },
        {
          "output_type": "stream",
          "text": [
            "W0109 14:23:28.974106 139908074243968 module_wrapper.py:139] From /usr/local/lib/python2.7/dist-packages/keras/backend/tensorflow_backend.py:986: The name tf.assign_add is deprecated. Please use tf.compat.v1.assign_add instead.\n",
            "\n",
            "W0109 14:23:29.052650 139908074243968 module_wrapper.py:139] From /usr/local/lib/python2.7/dist-packages/keras/backend/tensorflow_backend.py:973: The name tf.assign is deprecated. Please use tf.compat.v1.assign instead.\n",
            "\n",
            "W0109 14:23:29.121093 139908074243968 module_wrapper.py:139] From /usr/local/lib/python2.7/dist-packages/keras/backend/tensorflow_backend.py:2741: The name tf.Session is deprecated. Please use tf.compat.v1.Session instead.\n",
            "\n",
            "W0109 14:23:29.126832 139908074243968 module_wrapper.py:139] From /usr/local/lib/python2.7/dist-packages/keras/backend/tensorflow_backend.py:174: The name tf.get_default_session is deprecated. Please use tf.compat.v1.get_default_session instead.\n",
            "\n",
            "W0109 14:23:29.128151 139908074243968 module_wrapper.py:139] From /usr/local/lib/python2.7/dist-packages/keras/backend/tensorflow_backend.py:181: The name tf.ConfigProto is deprecated. Please use tf.compat.v1.ConfigProto instead.\n",
            "\n",
            "W0109 14:23:29.198308 139908074243968 module_wrapper.py:139] From /usr/local/lib/python2.7/dist-packages/keras/backend/tensorflow_backend.py:190: The name tf.global_variables is deprecated. Please use tf.compat.v1.global_variables instead.\n",
            "\n",
            "W0109 14:23:29.200198 139908074243968 module_wrapper.py:139] From /usr/local/lib/python2.7/dist-packages/keras/backend/tensorflow_backend.py:199: The name tf.is_variable_initialized is deprecated. Please use tf.compat.v1.is_variable_initialized instead.\n",
            "\n",
            "W0109 14:23:29.325285 139908074243968 module_wrapper.py:139] From /usr/local/lib/python2.7/dist-packages/keras/backend/tensorflow_backend.py:206: The name tf.variables_initializer is deprecated. Please use tf.compat.v1.variables_initializer instead.\n",
            "\n"
          ],
          "name": "stderr"
        },
        {
          "output_type": "stream",
          "text": [
            "[CV] ... epochs=10, batch_size=10, score=0.740458012537, total=   1.3s\n",
            "[CV] epochs=10, batch_size=10 ........................................\n"
          ],
          "name": "stdout"
        },
        {
          "output_type": "stream",
          "text": [
            "[Parallel(n_jobs=1)]: Done   1 out of   1 | elapsed:    1.3s remaining:    0.0s\n"
          ],
          "name": "stderr"
        },
        {
          "output_type": "stream",
          "text": [
            "[CV] ... epochs=10, batch_size=10, score=0.763358772256, total=   0.9s\n",
            "[CV] epochs=10, batch_size=10 ........................................\n"
          ],
          "name": "stdout"
        },
        {
          "output_type": "stream",
          "text": [
            "[Parallel(n_jobs=1)]: Done   2 out of   2 | elapsed:    2.2s remaining:    0.0s\n"
          ],
          "name": "stderr"
        },
        {
          "output_type": "stream",
          "text": [
            "[CV] ... epochs=10, batch_size=10, score=0.792307684055, total=   1.1s\n",
            "[CV] epochs=50, batch_size=10 ........................................\n"
          ],
          "name": "stdout"
        },
        {
          "output_type": "stream",
          "text": [
            "[Parallel(n_jobs=1)]: Done   3 out of   3 | elapsed:    3.4s remaining:    0.0s\n"
          ],
          "name": "stderr"
        },
        {
          "output_type": "stream",
          "text": [
            "[CV] ... epochs=50, batch_size=10, score=0.732824427481, total=   2.2s\n",
            "[CV] epochs=50, batch_size=10 ........................................\n"
          ],
          "name": "stdout"
        },
        {
          "output_type": "stream",
          "text": [
            "[Parallel(n_jobs=1)]: Done   4 out of   4 | elapsed:    5.6s remaining:    0.0s\n"
          ],
          "name": "stderr"
        },
        {
          "output_type": "stream",
          "text": [
            "[CV] ... epochs=50, batch_size=10, score=0.740458017087, total=   2.2s\n",
            "[CV] epochs=50, batch_size=10 ........................................\n"
          ],
          "name": "stdout"
        },
        {
          "output_type": "stream",
          "text": [
            "[Parallel(n_jobs=1)]: Done   5 out of   5 | elapsed:    7.8s remaining:    0.0s\n"
          ],
          "name": "stderr"
        },
        {
          "output_type": "stream",
          "text": [
            "[CV] .... epochs=50, batch_size=10, score=0.79230768864, total=   2.3s\n",
            "[CV] epochs=100, batch_size=10 .......................................\n"
          ],
          "name": "stdout"
        },
        {
          "output_type": "stream",
          "text": [
            "[Parallel(n_jobs=1)]: Done   6 out of   6 | elapsed:   10.2s remaining:    0.0s\n"
          ],
          "name": "stderr"
        },
        {
          "output_type": "stream",
          "text": [
            "[CV] .... epochs=100, batch_size=10, score=0.7251908447, total=   3.8s\n",
            "[CV] epochs=100, batch_size=10 .......................................\n"
          ],
          "name": "stdout"
        },
        {
          "output_type": "stream",
          "text": [
            "[Parallel(n_jobs=1)]: Done   7 out of   7 | elapsed:   14.0s remaining:    0.0s\n"
          ],
          "name": "stderr"
        },
        {
          "output_type": "stream",
          "text": [
            "[CV] .... epochs=100, batch_size=10, score=0.7862595388, total=   4.1s\n",
            "[CV] epochs=100, batch_size=10 .......................................\n"
          ],
          "name": "stdout"
        },
        {
          "output_type": "stream",
          "text": [
            "[Parallel(n_jobs=1)]: Done   8 out of   8 | elapsed:   18.1s remaining:    0.0s\n"
          ],
          "name": "stderr"
        },
        {
          "output_type": "stream",
          "text": [
            "[CV] .. epochs=100, batch_size=10, score=0.853846141925, total=   4.1s\n",
            "[CV] epochs=10, batch_size=20 ........................................\n"
          ],
          "name": "stdout"
        },
        {
          "output_type": "stream",
          "text": [
            "[Parallel(n_jobs=1)]: Done   9 out of   9 | elapsed:   22.2s remaining:    0.0s\n"
          ],
          "name": "stderr"
        },
        {
          "output_type": "stream",
          "text": [
            "[CV] ... epochs=10, batch_size=20, score=0.732824424751, total=   1.5s\n",
            "[CV] epochs=10, batch_size=20 ........................................\n",
            "[CV] ... epochs=10, batch_size=20, score=0.763358789091, total=   1.6s\n",
            "[CV] epochs=10, batch_size=20 ........................................\n",
            "[CV] ... epochs=10, batch_size=20, score=0.823076926745, total=   1.8s\n",
            "[CV] epochs=50, batch_size=20 ........................................\n",
            "[CV] ... epochs=50, batch_size=20, score=0.732824425661, total=   2.4s\n",
            "[CV] epochs=50, batch_size=20 ........................................\n",
            "[CV] ... epochs=50, batch_size=20, score=0.778625960113, total=   2.5s\n",
            "[CV] epochs=50, batch_size=20 ........................................\n",
            "[CV] ... epochs=50, batch_size=20, score=0.800000007336, total=   2.6s\n",
            "[CV] epochs=100, batch_size=20 .......................................\n",
            "[CV] .. epochs=100, batch_size=20, score=0.732824424751, total=   3.6s\n",
            "[CV] epochs=100, batch_size=20 .......................................\n",
            "[CV] .. epochs=100, batch_size=20, score=0.748091591679, total=   3.7s\n",
            "[CV] epochs=100, batch_size=20 .......................................\n",
            "[CV] .. epochs=100, batch_size=20, score=0.815384626389, total=   3.9s\n",
            "[CV] epochs=10, batch_size=40 ........................................\n",
            "[CV] ... epochs=10, batch_size=40, score=0.717557236438, total=   2.3s\n",
            "[CV] epochs=10, batch_size=40 ........................................\n",
            "[CV] ... epochs=10, batch_size=40, score=0.763358780901, total=   2.4s\n",
            "[CV] epochs=10, batch_size=40 ........................................\n",
            "[CV] ... epochs=10, batch_size=40, score=0.807692298522, total=   2.4s\n",
            "[CV] epochs=50, batch_size=40 ........................................\n",
            "[CV] ... epochs=50, batch_size=40, score=0.755725190385, total=   2.9s\n",
            "[CV] epochs=50, batch_size=40 ........................................\n",
            "[CV] ... epochs=50, batch_size=40, score=0.778625960113, total=   3.3s\n",
            "[CV] epochs=50, batch_size=40 ........................................\n",
            "[CV] ... epochs=50, batch_size=40, score=0.800000002751, total=   3.1s\n",
            "[CV] epochs=100, batch_size=40 .......................................\n",
            "[CV] .. epochs=100, batch_size=40, score=0.732824415651, total=   3.7s\n",
            "[CV] epochs=100, batch_size=40 .......................................\n",
            "[CV] .. epochs=100, batch_size=40, score=0.740458014357, total=   3.8s\n",
            "[CV] epochs=100, batch_size=40 .......................................\n",
            "[CV] .. epochs=100, batch_size=40, score=0.799999998166, total=   3.9s\n"
          ],
          "name": "stdout"
        },
        {
          "output_type": "stream",
          "text": [
            "[Parallel(n_jobs=1)]: Done  27 out of  27 | elapsed:  1.2min finished\n"
          ],
          "name": "stderr"
        },
        {
          "output_type": "stream",
          "text": [
            "Best: 0.788265302777, using {'epochs': 100, 'batch_size': 10}\n",
            "0.765306116671 ((1)) with: (2)\n",
            "0.755102040208 ((1)) with: (2)\n",
            "0.788265302777 ((1)) with: (2)\n",
            "0.772959187475 ((1)) with: (2)\n",
            "0.770408167067 ((1)) with: (2)\n",
            "0.765306121385 ((1)) with: (2)\n",
            "0.76275509459 ((1)) with: (2)\n",
            "0.778061227227 ((1)) with: (2)\n",
            "0.757653056359 ((1)) with: (2)\n"
          ],
          "name": "stdout"
        }
      ]
    },
    {
      "cell_type": "code",
      "metadata": {
        "id": "-H5eept4FmWm",
        "colab_type": "code",
        "colab": {
          "base_uri": "https://localhost:8080/",
          "height": 1000
        },
        "outputId": "c600532a-bf91-4bcf-d48a-fb0100ff9647"
      },
      "source": [
        "seed = 6\n",
        "np.random.seed(seed)\n",
        "\n",
        "# Start defining the model\n",
        "def create_model(activation, init):\n",
        "    # create model\n",
        "    model = Sequential()\n",
        "    model.add(Dense(8, input_dim = 8, kernel_initializer= init, activation= activation))\n",
        "    model.add(Dense(4, input_dim = 8, kernel_initializer= init, activation= activation))\n",
        "    model.add(Dense(1, activation='sigmoid'))\n",
        "    \n",
        "    # compile the model\n",
        "    adam = Adam(lr = 0.001)\n",
        "    model.compile(loss = 'binary_crossentropy', optimizer = adam, metrics = ['accuracy'])\n",
        "    return model\n",
        "\n",
        "# create the model\n",
        "model = KerasClassifier(build_fn = create_model, epochs = 100, batch_size = 20, verbose = 0)\n",
        "\n",
        "# define the grid search parameters\n",
        "activation = ['softmax', 'relu', 'tanh', 'linear']\n",
        "init = ['uniform', 'normal', 'zero']\n",
        "\n",
        "# make a dictionary of the grid search parameters\n",
        "param_grid = dict(activation = activation, init = init)\n",
        "\n",
        "# build and fit the GridSearchCV\n",
        "grid = GridSearchCV(estimator = model, param_grid = param_grid, cv = KFold(random_state=seed), verbose = 10)\n",
        "grid_results = grid.fit(X_standardized, Y)\n",
        "\n",
        "# summarize the results\n",
        "print(\"Best: {0}, using {1}\".format(grid_results.best_score_, grid_results.best_params_))\n",
        "means = grid_results.cv_results_['mean_test_score']\n",
        "stds = grid_result.cv_results_['std_test_score']\n",
        "params = grid_results.cv_results_['params']\n",
        "for mean, stdev, param in zip(means, stds, params):\n",
        "    print('{0} ({1}) with: {2}'.format(mean, stdev, param))"
      ],
      "execution_count": 19,
      "outputs": [
        {
          "output_type": "stream",
          "text": [
            "Fitting 3 folds for each of 12 candidates, totalling 36 fits\n",
            "[CV] activation=softmax, init=uniform ................................\n"
          ],
          "name": "stdout"
        },
        {
          "output_type": "stream",
          "text": [
            "[Parallel(n_jobs=1)]: Using backend SequentialBackend with 1 concurrent workers.\n"
          ],
          "name": "stderr"
        },
        {
          "output_type": "stream",
          "text": [
            "[CV]  activation=softmax, init=uniform, score=0.75572520358, total=   5.5s\n",
            "[CV] activation=softmax, init=uniform ................................\n"
          ],
          "name": "stdout"
        },
        {
          "output_type": "stream",
          "text": [
            "[Parallel(n_jobs=1)]: Done   1 out of   1 | elapsed:    5.5s remaining:    0.0s\n"
          ],
          "name": "stderr"
        },
        {
          "output_type": "stream",
          "text": [
            "[CV]  activation=softmax, init=uniform, score=0.755725200395, total=   5.5s\n",
            "[CV] activation=softmax, init=uniform ................................\n"
          ],
          "name": "stdout"
        },
        {
          "output_type": "stream",
          "text": [
            "[Parallel(n_jobs=1)]: Done   2 out of   2 | elapsed:   11.0s remaining:    0.0s\n"
          ],
          "name": "stderr"
        },
        {
          "output_type": "stream",
          "text": [
            "[CV]  activation=softmax, init=uniform, score=0.815384621804, total=   5.6s\n",
            "[CV] activation=softmax, init=normal .................................\n"
          ],
          "name": "stdout"
        },
        {
          "output_type": "stream",
          "text": [
            "[Parallel(n_jobs=1)]: Done   3 out of   3 | elapsed:   16.7s remaining:    0.0s\n"
          ],
          "name": "stderr"
        },
        {
          "output_type": "stream",
          "text": [
            "[CV]  activation=softmax, init=normal, score=0.610687024266, total=   5.7s\n",
            "[CV] activation=softmax, init=normal .................................\n"
          ],
          "name": "stdout"
        },
        {
          "output_type": "stream",
          "text": [
            "[Parallel(n_jobs=1)]: Done   4 out of   4 | elapsed:   22.3s remaining:    0.0s\n"
          ],
          "name": "stderr"
        },
        {
          "output_type": "stream",
          "text": [
            "[CV]  activation=softmax, init=normal, score=0.755725200395, total=   5.9s\n",
            "[CV] activation=softmax, init=normal .................................\n"
          ],
          "name": "stdout"
        },
        {
          "output_type": "stream",
          "text": [
            "[Parallel(n_jobs=1)]: Done   5 out of   5 | elapsed:   28.3s remaining:    0.0s\n"
          ],
          "name": "stderr"
        },
        {
          "output_type": "stream",
          "text": [
            "[CV]  activation=softmax, init=normal, score=0.823076926745, total=   6.1s\n",
            "[CV] activation=softmax, init=zero ...................................\n"
          ],
          "name": "stdout"
        },
        {
          "output_type": "stream",
          "text": [
            "[Parallel(n_jobs=1)]: Done   6 out of   6 | elapsed:   34.4s remaining:    0.0s\n"
          ],
          "name": "stderr"
        },
        {
          "output_type": "stream",
          "text": [
            "[CV]  activation=softmax, init=zero, score=0.610687024266, total=   6.0s\n",
            "[CV] activation=softmax, init=zero ...................................\n"
          ],
          "name": "stdout"
        },
        {
          "output_type": "stream",
          "text": [
            "[Parallel(n_jobs=1)]: Done   7 out of   7 | elapsed:   40.4s remaining:    0.0s\n"
          ],
          "name": "stderr"
        },
        {
          "output_type": "stream",
          "text": [
            "[CV]  activation=softmax, init=zero, score=0.69465649583, total=   6.3s\n",
            "[CV] activation=softmax, init=zero ...................................\n"
          ],
          "name": "stdout"
        },
        {
          "output_type": "stream",
          "text": [
            "[Parallel(n_jobs=1)]: Done   8 out of   8 | elapsed:   46.7s remaining:    0.0s\n"
          ],
          "name": "stderr"
        },
        {
          "output_type": "stream",
          "text": [
            "[CV]  activation=softmax, init=zero, score=0.699999988079, total=   8.1s\n",
            "[CV] activation=relu, init=uniform ...................................\n"
          ],
          "name": "stdout"
        },
        {
          "output_type": "stream",
          "text": [
            "[Parallel(n_jobs=1)]: Done   9 out of   9 | elapsed:   54.8s remaining:    0.0s\n"
          ],
          "name": "stderr"
        },
        {
          "output_type": "stream",
          "text": [
            "[CV]  activation=relu, init=uniform, score=0.732824434761, total=   6.5s\n",
            "[CV] activation=relu, init=uniform ...................................\n",
            "[CV]  activation=relu, init=uniform, score=0.748091610788, total=   6.5s\n",
            "[CV] activation=relu, init=uniform ...................................\n",
            "[CV]  activation=relu, init=uniform, score=0.82307692216, total=   6.7s\n",
            "[CV] activation=relu, init=normal ....................................\n",
            "[CV]  activation=relu, init=normal, score=0.725190835145, total=   6.7s\n",
            "[CV] activation=relu, init=normal ....................................\n",
            "[CV]  activation=relu, init=normal, score=0.763358780901, total=   6.9s\n",
            "[CV] activation=relu, init=normal ....................................\n",
            "[CV]  activation=relu, init=normal, score=0.838461550382, total=   7.0s\n",
            "[CV] activation=relu, init=zero ......................................\n",
            "[CV] . activation=relu, init=zero, score=0.610687024266, total=   7.5s\n",
            "[CV] activation=relu, init=zero ......................................\n",
            "[CV] .. activation=relu, init=zero, score=0.69465649583, total=   7.3s\n",
            "[CV] activation=relu, init=zero ......................................\n",
            "[CV] . activation=relu, init=zero, score=0.699999988079, total=   7.3s\n",
            "[CV] activation=tanh, init=uniform ...................................\n",
            "[CV]  activation=tanh, init=uniform, score=0.75572519448, total=   7.5s\n",
            "[CV] activation=tanh, init=uniform ...................................\n",
            "[CV]  activation=tanh, init=uniform, score=0.770992379607, total=   7.6s\n",
            "[CV] activation=tanh, init=uniform ...................................\n",
            "[CV]  activation=tanh, init=uniform, score=0.823076926745, total=   7.7s\n",
            "[CV] activation=tanh, init=normal ....................................\n",
            "[CV]  activation=tanh, init=normal, score=0.763358784086, total=   7.9s\n",
            "[CV] activation=tanh, init=normal ....................................\n",
            "[CV]  activation=tanh, init=normal, score=0.778625969213, total=   8.0s\n",
            "[CV] activation=tanh, init=normal ....................................\n",
            "[CV]  activation=tanh, init=normal, score=0.838461536628, total=   8.2s\n",
            "[CV] activation=tanh, init=zero ......................................\n",
            "[CV] . activation=tanh, init=zero, score=0.610687024266, total=   8.2s\n",
            "[CV] activation=tanh, init=zero ......................................\n",
            "[CV] .. activation=tanh, init=zero, score=0.69465649583, total=   8.4s\n",
            "[CV] activation=tanh, init=zero ......................................\n",
            "[CV] . activation=tanh, init=zero, score=0.699999988079, total=   8.4s\n",
            "[CV] activation=linear, init=uniform .................................\n",
            "[CV]  activation=linear, init=uniform, score=0.770992364592, total=   8.5s\n",
            "[CV] activation=linear, init=uniform .................................\n",
            "[CV]  activation=linear, init=uniform, score=0.763358790001, total=   8.7s\n",
            "[CV] activation=linear, init=uniform .................................\n",
            "[CV]  activation=linear, init=uniform, score=0.846153855324, total=   8.8s\n",
            "[CV] activation=linear, init=normal ..................................\n",
            "[CV]  activation=linear, init=normal, score=0.770992355492, total=   9.0s\n",
            "[CV] activation=linear, init=normal ..................................\n",
            "[CV]  activation=linear, init=normal, score=0.763358790001, total=   9.2s\n",
            "[CV] activation=linear, init=normal ..................................\n",
            "[CV]  activation=linear, init=normal, score=0.838461545797, total=   9.3s\n",
            "[CV] activation=linear, init=zero ....................................\n",
            "[CV]  activation=linear, init=zero, score=0.610687024266, total=   9.2s\n",
            "[CV] activation=linear, init=zero ....................................\n",
            "[CV]  activation=linear, init=zero, score=0.69465649583, total=   9.5s\n",
            "[CV] activation=linear, init=zero ....................................\n",
            "[CV]  activation=linear, init=zero, score=0.699999988079, total=  10.2s\n"
          ],
          "name": "stdout"
        },
        {
          "output_type": "stream",
          "text": [
            "[Parallel(n_jobs=1)]: Done  36 out of  36 | elapsed:  4.5min finished\n",
            "/usr/local/lib/python2.7/dist-packages/sklearn/model_selection/_search.py:841: DeprecationWarning: The default of the `iid` parameter will change from True to False in version 0.22 and will be removed in 0.24. This will change numeric results when test-set sizes are unequal.\n",
            "  DeprecationWarning)\n"
          ],
          "name": "stderr"
        },
        {
          "output_type": "stream",
          "text": [
            "Best: 0.793367353173, using {'activation': 'tanh', 'init': 'normal'}\n",
            "0.775510213661 (0.0211988206975) with: {'activation': 'softmax', 'init': 'uniform'}\n",
            "0.7295918416 (0.0263928669379) with: {'activation': 'softmax', 'init': 'normal'}\n",
            "0.668367345874 (0.0525086435112) with: {'activation': 'softmax', 'init': 'zero'}\n",
            "0.767857147571 (0.0374445531281) with: {'activation': 'relu', 'init': 'uniform'}\n",
            "0.775510207275 (0.0280181768346) with: {'activation': 'relu', 'init': 'normal'}\n",
            "0.668367345874 (0.0358232214083) with: {'activation': 'relu', 'init': 'zero'}\n",
            "0.783163272148 (0.0367762267892) with: {'activation': 'tanh', 'init': 'uniform'}\n",
            "0.793367353173 (0.0180678829961) with: {'activation': 'tanh', 'init': 'normal'}\n",
            "0.668367345874 (0.0299920651187) with: {'activation': 'tanh', 'init': 'zero'}\n"
          ],
          "name": "stdout"
        }
      ]
    },
    {
      "cell_type": "code",
      "metadata": {
        "id": "twee5M7MufYp",
        "colab_type": "code",
        "colab": {
          "base_uri": "https://localhost:8080/",
          "height": 1000
        },
        "outputId": "647030ba-be84-4311-fa74-24744e0749ab"
      },
      "source": [
        "from keras.layers import Dropout\n",
        "\n",
        "# Define a random seed\n",
        "seed = 6\n",
        "np.random.seed(seed)\n",
        "\n",
        "# Start defining the model\n",
        "def create_model(learn_rate, dropout_rate):\n",
        "    # create model\n",
        "    model = Sequential()\n",
        "    model.add(Dense(8, input_dim = 8, kernel_initializer='normal', activation='relu'))\n",
        "    model.add(Dropout(dropout_rate))\n",
        "    model.add(Dense(4, input_dim = 8, kernel_initializer='normal', activation='relu'))\n",
        "    model.add(Dropout(dropout_rate))\n",
        "    model.add(Dense(1, activation='sigmoid'))\n",
        "    \n",
        "    # compile the model\n",
        "    adam = Adam(lr = learn_rate)\n",
        "    model.compile(loss = 'binary_crossentropy', optimizer = adam, metrics = ['accuracy'])\n",
        "    return model\n",
        "\n",
        "# create the model\n",
        "model = KerasClassifier(build_fn = create_model, epochs = 100, batch_size = 20, verbose = 0)\n",
        "\n",
        "# define the grid search parameters\n",
        "learn_rate = [0.001, 0.01, 0.1]\n",
        "dropout_rate = [0.0, 0.1, 0.2]\n",
        "\n",
        "# make a dictionary of the grid search parameters\n",
        "param_grid = dict(learn_rate=learn_rate, dropout_rate=dropout_rate)\n",
        "\n",
        "# build and fit the GridSearchCV\n",
        "grid = GridSearchCV(estimator = model, param_grid = param_grid, cv = KFold(random_state=seed), verbose = 10)\n",
        "grid_results = grid.fit(X_standardized, Y)\n",
        "\n",
        "# summarize the results\n",
        "print(\"Best: {0}, using {1}\".format(grid_results.best_score_, grid_results.best_params_))\n",
        "means = grid_results.cv_results_['mean_test_score']\n",
        "stds = grid_results.cv_results_['std_test_score']\n",
        "params = grid_results.cv_results_['params']\n",
        "for mean, stdev, param in zip(means, stds, params):\n",
        "    print('{0} ({1}) with: {2}'.format(mean, stdev, param))"
      ],
      "execution_count": 21,
      "outputs": [
        {
          "output_type": "stream",
          "text": [
            "Fitting 3 folds for each of 9 candidates, totalling 27 fits\n",
            "[CV] learn_rate=0.001, dropout_rate=0.0 ..............................\n"
          ],
          "name": "stdout"
        },
        {
          "output_type": "stream",
          "text": [
            "[Parallel(n_jobs=1)]: Using backend SequentialBackend with 1 concurrent workers.\n"
          ],
          "name": "stderr"
        },
        {
          "output_type": "stream",
          "text": [
            "[CV]  learn_rate=0.001, dropout_rate=0.0, score=0.748091613973, total=   5.3s\n",
            "[CV] learn_rate=0.001, dropout_rate=0.0 ..............................\n"
          ],
          "name": "stdout"
        },
        {
          "output_type": "stream",
          "text": [
            "[Parallel(n_jobs=1)]: Done   1 out of   1 | elapsed:    5.3s remaining:    0.0s\n"
          ],
          "name": "stderr"
        },
        {
          "output_type": "stream",
          "text": [
            "[CV]  learn_rate=0.001, dropout_rate=0.0, score=0.770992370507, total=   5.3s\n",
            "[CV] learn_rate=0.001, dropout_rate=0.0 ..............................\n"
          ],
          "name": "stdout"
        },
        {
          "output_type": "stream",
          "text": [
            "[Parallel(n_jobs=1)]: Done   2 out of   2 | elapsed:   10.6s remaining:    0.0s\n"
          ],
          "name": "stderr"
        },
        {
          "output_type": "stream",
          "text": [
            "[CV]  learn_rate=0.001, dropout_rate=0.0, score=0.85384616485, total=   5.4s\n",
            "[CV] learn_rate=0.01, dropout_rate=0.0 ...............................\n"
          ],
          "name": "stdout"
        },
        {
          "output_type": "stream",
          "text": [
            "[Parallel(n_jobs=1)]: Done   3 out of   3 | elapsed:   16.0s remaining:    0.0s\n"
          ],
          "name": "stderr"
        },
        {
          "output_type": "stream",
          "text": [
            "[CV]  learn_rate=0.01, dropout_rate=0.0, score=0.725190845155, total=   5.6s\n",
            "[CV] learn_rate=0.01, dropout_rate=0.0 ...............................\n"
          ],
          "name": "stdout"
        },
        {
          "output_type": "stream",
          "text": [
            "[Parallel(n_jobs=1)]: Done   4 out of   4 | elapsed:   21.6s remaining:    0.0s\n"
          ],
          "name": "stderr"
        },
        {
          "output_type": "stream",
          "text": [
            "[CV]  learn_rate=0.01, dropout_rate=0.0, score=0.770992379607, total=   5.6s\n",
            "[CV] learn_rate=0.01, dropout_rate=0.0 ...............................\n"
          ],
          "name": "stdout"
        },
        {
          "output_type": "stream",
          "text": [
            "[Parallel(n_jobs=1)]: Done   5 out of   5 | elapsed:   27.3s remaining:    0.0s\n"
          ],
          "name": "stderr"
        },
        {
          "output_type": "stream",
          "text": [
            "[CV]  learn_rate=0.01, dropout_rate=0.0, score=0.79230769781, total=   5.8s\n",
            "[CV] learn_rate=0.1, dropout_rate=0.0 ................................\n"
          ],
          "name": "stdout"
        },
        {
          "output_type": "stream",
          "text": [
            "[Parallel(n_jobs=1)]: Done   6 out of   6 | elapsed:   33.0s remaining:    0.0s\n"
          ],
          "name": "stderr"
        },
        {
          "output_type": "stream",
          "text": [
            "[CV]  learn_rate=0.1, dropout_rate=0.0, score=0.748091604873, total=   5.9s\n",
            "[CV] learn_rate=0.1, dropout_rate=0.0 ................................\n"
          ],
          "name": "stdout"
        },
        {
          "output_type": "stream",
          "text": [
            "[Parallel(n_jobs=1)]: Done   7 out of   7 | elapsed:   38.9s remaining:    0.0s\n"
          ],
          "name": "stderr"
        },
        {
          "output_type": "stream",
          "text": [
            "[CV]  learn_rate=0.1, dropout_rate=0.0, score=0.748091610788, total=   6.0s\n",
            "[CV] learn_rate=0.1, dropout_rate=0.0 ................................\n"
          ],
          "name": "stdout"
        },
        {
          "output_type": "stream",
          "text": [
            "[Parallel(n_jobs=1)]: Done   8 out of   8 | elapsed:   44.9s remaining:    0.0s\n"
          ],
          "name": "stderr"
        },
        {
          "output_type": "stream",
          "text": [
            "[CV]  learn_rate=0.1, dropout_rate=0.0, score=0.838461536628, total=   6.0s\n",
            "[CV] learn_rate=0.001, dropout_rate=0.1 ..............................\n"
          ],
          "name": "stdout"
        },
        {
          "output_type": "stream",
          "text": [
            "[Parallel(n_jobs=1)]: Done   9 out of   9 | elapsed:   51.0s remaining:    0.0s\n"
          ],
          "name": "stderr"
        },
        {
          "output_type": "stream",
          "text": [
            "[CV]  learn_rate=0.001, dropout_rate=0.1, score=0.725190845155, total=   6.8s\n",
            "[CV] learn_rate=0.001, dropout_rate=0.1 ..............................\n",
            "[CV]  learn_rate=0.001, dropout_rate=0.1, score=0.755725200395, total=   6.6s\n",
            "[CV] learn_rate=0.001, dropout_rate=0.1 ..............................\n",
            "[CV]  learn_rate=0.001, dropout_rate=0.1, score=0.838461536628, total=   6.7s\n",
            "[CV] learn_rate=0.01, dropout_rate=0.1 ...............................\n",
            "[CV]  learn_rate=0.01, dropout_rate=0.1, score=0.755725188565, total=   7.0s\n",
            "[CV] learn_rate=0.01, dropout_rate=0.1 ...............................\n",
            "[CV]  learn_rate=0.01, dropout_rate=0.1, score=0.778625950103, total=   7.2s\n",
            "[CV] learn_rate=0.01, dropout_rate=0.1 ...............................\n",
            "[CV]  learn_rate=0.01, dropout_rate=0.1, score=0.82307691299, total=   7.6s\n",
            "[CV] learn_rate=0.1, dropout_rate=0.1 ................................\n",
            "[CV]  learn_rate=0.1, dropout_rate=0.1, score=0.763358774076, total=   7.3s\n",
            "[CV] learn_rate=0.1, dropout_rate=0.1 ................................\n",
            "[CV]  learn_rate=0.1, dropout_rate=0.1, score=0.770992382792, total=   7.4s\n",
            "[CV] learn_rate=0.1, dropout_rate=0.1 ................................\n",
            "[CV]  learn_rate=0.1, dropout_rate=0.1, score=0.723076925828, total=   7.5s\n",
            "[CV] learn_rate=0.001, dropout_rate=0.2 ..............................\n",
            "[CV]  learn_rate=0.001, dropout_rate=0.2, score=0.740458015267, total=   7.7s\n",
            "[CV] learn_rate=0.001, dropout_rate=0.2 ..............................\n",
            "[CV]  learn_rate=0.001, dropout_rate=0.2, score=0.763358780901, total=   7.7s\n",
            "[CV] learn_rate=0.001, dropout_rate=0.2 ..............................\n",
            "[CV]  learn_rate=0.001, dropout_rate=0.2, score=0.846153855324, total=   8.0s\n",
            "[CV] learn_rate=0.01, dropout_rate=0.2 ...............................\n",
            "[CV]  learn_rate=0.01, dropout_rate=0.2, score=0.755725188565, total=   8.2s\n",
            "[CV] learn_rate=0.01, dropout_rate=0.2 ...............................\n",
            "[CV]  learn_rate=0.01, dropout_rate=0.2, score=0.763358770891, total=   8.2s\n",
            "[CV] learn_rate=0.01, dropout_rate=0.2 ...............................\n",
            "[CV]  learn_rate=0.01, dropout_rate=0.2, score=0.807692321447, total=   8.3s\n",
            "[CV] learn_rate=0.1, dropout_rate=0.2 ................................\n",
            "[CV]  learn_rate=0.1, dropout_rate=0.2, score=0.66412213149, total=   8.5s\n",
            "[CV] learn_rate=0.1, dropout_rate=0.2 ................................\n",
            "[CV]  learn_rate=0.1, dropout_rate=0.2, score=0.755725200395, total=   8.9s\n",
            "[CV] learn_rate=0.1, dropout_rate=0.2 ................................\n",
            "[CV]  learn_rate=0.1, dropout_rate=0.2, score=0.807692316862, total=   8.7s\n"
          ],
          "name": "stdout"
        },
        {
          "output_type": "stream",
          "text": [
            "[Parallel(n_jobs=1)]: Done  27 out of  27 | elapsed:  3.2min finished\n"
          ],
          "name": "stderr"
        },
        {
          "output_type": "stream",
          "text": [
            "Best: 0.790816335198, using {'learn_rate': 0.001, 'dropout_rate': 0.0}\n",
            "0.790816335198 (0.0453745184977) with: {'learn_rate': 0.001, 'dropout_rate': 0.0}\n",
            "0.7627551101 (0.027997612559) with: {'learn_rate': 0.01, 'dropout_rate': 0.0}\n",
            "0.778061227075 (0.0425461429451) with: {'learn_rate': 0.1, 'dropout_rate': 0.0}\n",
            "0.772959188083 (0.047798433089) with: {'learn_rate': 0.001, 'dropout_rate': 0.1}\n",
            "0.78571428024 (0.0279335909856) with: {'learn_rate': 0.01, 'dropout_rate': 0.1}\n",
            "0.752551025274 (0.0209948161865) with: {'learn_rate': 0.1, 'dropout_rate': 0.1}\n",
            "0.783163269107 (0.0453474711238) with: {'learn_rate': 0.001, 'dropout_rate': 0.2}\n",
            "0.775510205298 (0.0228829192889) with: {'learn_rate': 0.01, 'dropout_rate': 0.2}\n",
            "0.742346943033 (0.0593363226735) with: {'learn_rate': 0.1, 'dropout_rate': 0.2}\n"
          ],
          "name": "stdout"
        }
      ]
    },
    {
      "cell_type": "code",
      "metadata": {
        "id": "RKmiwnVFnfex",
        "colab_type": "code",
        "colab": {}
      },
      "source": [
        "# generate predictions with optimal hyperparameters\n",
        "y_pred = grid.predict(X_standardized)"
      ],
      "execution_count": 0,
      "outputs": []
    },
    {
      "cell_type": "code",
      "metadata": {
        "id": "vipMDJJBnjra",
        "colab_type": "code",
        "colab": {
          "base_uri": "https://localhost:8080/",
          "height": 34
        },
        "outputId": "5993154f-a0cc-4e65-b379-ad4c109ccac5"
      },
      "source": [
        "print(y_pred.shape)"
      ],
      "execution_count": 23,
      "outputs": [
        {
          "output_type": "stream",
          "text": [
            "(392, 1)\n"
          ],
          "name": "stdout"
        }
      ]
    },
    {
      "cell_type": "code",
      "metadata": {
        "id": "1tHB5JJznmrm",
        "colab_type": "code",
        "colab": {
          "base_uri": "https://localhost:8080/",
          "height": 102
        },
        "outputId": "8f6352c8-5e5e-48d5-ba2f-828d2ca99375"
      },
      "source": [
        "print(y_pred[:5])"
      ],
      "execution_count": 24,
      "outputs": [
        {
          "output_type": "stream",
          "text": [
            "[[0]\n",
            " [1]\n",
            " [0]\n",
            " [1]\n",
            " [1]]\n"
          ],
          "name": "stdout"
        }
      ]
    },
    {
      "cell_type": "code",
      "metadata": {
        "id": "ZlfzujUXnolJ",
        "colab_type": "code",
        "colab": {
          "base_uri": "https://localhost:8080/",
          "height": 187
        },
        "outputId": "ad8b74f7-59a9-47a4-ca6c-7bb6098dc97d"
      },
      "source": [
        "# Generate a classification report\n",
        "from sklearn.metrics import classification_report, accuracy_score\n",
        "\n",
        "print(accuracy_score(Y, y_pred))\n",
        "print(classification_report(Y, y_pred))"
      ],
      "execution_count": 25,
      "outputs": [
        {
          "output_type": "stream",
          "text": [
            "0.8239795918367347\n",
            "              precision    recall  f1-score   support\n",
            "\n",
            "           0       0.88      0.85      0.87       262\n",
            "           1       0.72      0.78      0.75       130\n",
            "\n",
            "   micro avg       0.82      0.82      0.82       392\n",
            "   macro avg       0.80      0.81      0.81       392\n",
            "weighted avg       0.83      0.82      0.83       392\n",
            "\n"
          ],
          "name": "stdout"
        }
      ]
    },
    {
      "cell_type": "code",
      "metadata": {
        "id": "E6XIlnGunsMa",
        "colab_type": "code",
        "colab": {}
      },
      "source": [
        ""
      ],
      "execution_count": 0,
      "outputs": []
    }
  ]
}